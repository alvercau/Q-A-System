{
 "cells": [
  {
   "cell_type": "markdown",
   "metadata": {},
   "source": [
    "# Word2Vec\n",
    "\n",
    "For calculating the distance between sentences and between keywords, I need a vector representation of the words. I will train a Word2Vec model. SkipGram predicts the context from the word (context a word can occur in depends on its meaning), while CBOW predicts the word from the context (where a word can show up depends on the meaning of the context). CBOW similarity should give you synonyms: if two words occur in the same context (they are synonyms for instance), they have very similar vectors. \n",
    "\n",
    "Preprocessing: mix of the feature engineering and topic modeling tokenizer.\n",
    "* lowercase\n",
    "* glue words together (replace '-' by nothing)\n",
    "* take out digits\n",
    "* print in file: one sentence per line.\n",
    "\n",
    "Parameters:\n",
    "* avoid sparse matrix: ignore very infrequent words\n",
    "* window size = 4 has been shown to be optimal for English\n",
    "* Dimension between 300-600. Not that relevant."
   ]
  },
  {
   "cell_type": "code",
   "execution_count": 1,
   "metadata": {
    "collapsed": true
   },
   "outputs": [],
   "source": [
    "from gensim.models import Word2Vec\n",
    "from gensim.models import phrases\n",
    "from pymongo import MongoClient\n",
    "import pandas as pd\n",
    "import en_core_web_sm\n",
    "from sklearn.feature_extraction.stop_words import ENGLISH_STOP_WORDS\n",
    "from nltk.corpus import stopwords\n",
    "from sklearn.externals import joblib\n",
    "import spacy\n",
    "import re\n",
    "import string\n",
    "from multiprocessing import Pool\n",
    "import numpy as np\n",
    "from sklearn.metrics.pairwise import cosine_similarity"
   ]
  },
  {
   "cell_type": "code",
   "execution_count": 2,
   "metadata": {
    "collapsed": true
   },
   "outputs": [],
   "source": [
    "standard_stopwords = set(list(ENGLISH_STOP_WORDS)+list(stopwords.words('english')))"
   ]
  },
  {
   "cell_type": "code",
   "execution_count": 3,
   "metadata": {
    "collapsed": true
   },
   "outputs": [],
   "source": [
    "nlp = spacy.load('en_core_web_sm')\n",
    "authors = joblib.load('authors')"
   ]
  },
  {
   "cell_type": "code",
   "execution_count": 4,
   "metadata": {
    "collapsed": true
   },
   "outputs": [],
   "source": [
    "def build_bigram_model(corpus):\n",
    "    corpus = is_english(nlp(corpus))\n",
    "    bigram = phrases.Phrases(corpus, min_count=20, threshold=17)\n",
    "    bigram_phraser = phrases.Phraser(bigram)\n",
    "    return bigram_phraser\n",
    "\n",
    "def is_english(doc):\n",
    "    \"\"\"determines whether a word is English/author\"\"\"\n",
    "    english_words = []\n",
    "    for sent in doc.sents:\n",
    "        sentence = []\n",
    "        for w in str(sent).split():\n",
    "            w = str(w).lower()\n",
    "            if w in authors:\n",
    "                sentence.append(w)\n",
    "            else: \n",
    "                try:\n",
    "                    w.encode(encoding='utf-8').decode('ascii')\n",
    "                        # if re.sub('-', '', word).isalpha():\n",
    "                            # english_words.append(re.sub('[%s]' % re.escape(string.punctuation), '', word))\n",
    "                    word = re.sub('[%s]' % re.escape(string.punctuation), '', w)\n",
    "                    if word.isalpha():\n",
    "                        sentence.append(word)\n",
    "                except UnicodeDecodeError:\n",
    "                    pass\n",
    "        english_words.append(sentence)\n",
    "    return english_words\n",
    "        \n",
    "def prepare_word2vec(corpus):\n",
    "    transf = nlp(corpus)\n",
    "    sentences = is_english(transf)\n",
    "    return sentences"
   ]
  },
  {
   "cell_type": "code",
   "execution_count": 2,
   "metadata": {
    "collapsed": true
   },
   "outputs": [],
   "source": [
    "client = MongoClient()\n",
    "db = client.lingbuzz\n",
    "papers = db.get_collection('papers')"
   ]
  },
  {
   "cell_type": "code",
   "execution_count": 7,
   "metadata": {
    "collapsed": true
   },
   "outputs": [],
   "source": [
    "corpus = str()\n",
    "for doc in papers.find({'paper':{'$exists': True}}):\n",
    "    corpus+=doc['paper']"
   ]
  },
  {
   "cell_type": "code",
   "execution_count": null,
   "metadata": {
    "collapsed": true
   },
   "outputs": [],
   "source": [
    "bigrams = build_bigram_model(corpus)"
   ]
  },
  {
   "cell_type": "code",
   "execution_count": null,
   "metadata": {
    "collapsed": true
   },
   "outputs": [],
   "source": [
    "len(bigrams.phrasegrams)"
   ]
  },
  {
   "cell_type": "code",
   "execution_count": null,
   "metadata": {
    "collapsed": true
   },
   "outputs": [],
   "source": [
    "bigrams.save('bigrams_model')"
   ]
  },
  {
   "cell_type": "code",
   "execution_count": 8,
   "metadata": {
    "collapsed": true
   },
   "outputs": [],
   "source": [
    "bigrams = joblib.load('bigrams_model')"
   ]
  },
  {
   "cell_type": "code",
   "execution_count": 9,
   "metadata": {
    "collapsed": true
   },
   "outputs": [],
   "source": [
    "# sentences is list of list of words. \n",
    "model = Word2Vec(bigrams[is_english(nlp(corpus))], size=300, window=4, workers=20)\n",
    "# good size is square root of length of vocabulary. Playing around with parameters does not change a thing."
   ]
  },
  {
   "cell_type": "code",
   "execution_count": null,
   "metadata": {
    "collapsed": true
   },
   "outputs": [],
   "source": [
    "model.wv.most_similar('focus')"
   ]
  },
  {
   "cell_type": "code",
   "execution_count": 11,
   "metadata": {
    "collapsed": true
   },
   "outputs": [],
   "source": [
    "model.save('word2vec')"
   ]
  },
  {
   "cell_type": "code",
   "execution_count": null,
   "metadata": {
    "collapsed": true
   },
   "outputs": [],
   "source": [
    "text_file = open(\"vocabulary.txt\", \"wb\")\n",
    "for word in model.wv.vocab.keys():\n",
    "    text_file.write(word.encode('utf-8') + '\\n'.encode('utf-8'))\n",
    "text_file.close()"
   ]
  },
  {
   "cell_type": "markdown",
   "metadata": {
    "collapsed": true
   },
   "source": [
    "The results of my word2vec model are bad. Probably because I do not have much data. Let's try the pretrained fastText model. It is trained based on character n-grams instead of on words, and can deal with OOV words and typos and other noisy things. With other pretrained models, OOV words have to be ignored, or assigned a random vector. Neither is a good option."
   ]
  },
  {
   "cell_type": "code",
   "execution_count": null,
   "metadata": {
    "collapsed": true
   },
   "outputs": [],
   "source": [
    "from gensim.models.wrappers import FastText"
   ]
  },
  {
   "cell_type": "code",
   "execution_count": null,
   "metadata": {
    "collapsed": true
   },
   "outputs": [],
   "source": [
    "fasttext_model = FastText.load_fasttext_format('../fastText/wiki.en.bin')"
   ]
  },
  {
   "cell_type": "code",
   "execution_count": null,
   "metadata": {
    "collapsed": true
   },
   "outputs": [],
   "source": [
    "fasttext_model.wv.similarity('fronting', 'movement')"
   ]
  },
  {
   "cell_type": "markdown",
   "metadata": {},
   "source": [
    "WAAAW! This is amazing. It can even deal with words in other languages! And it does so much way more better than my stupid word2vec model. 'Fronting' is an instance of 'movement', and acording to word2vec, the meanings are kind of orthogonal."
   ]
  },
  {
   "cell_type": "code",
   "execution_count": null,
   "metadata": {
    "collapsed": true
   },
   "outputs": [],
   "source": [
    "model.wv.similarity('fronting', 'movement')"
   ]
  },
  {
   "cell_type": "code",
   "execution_count": null,
   "metadata": {
    "collapsed": true
   },
   "outputs": [],
   "source": [
    "fasttext_model.wv.most_similar('it')"
   ]
  },
  {
   "cell_type": "code",
   "execution_count": null,
   "metadata": {
    "collapsed": true
   },
   "outputs": [],
   "source": [
    "model.wv.most_similar('it')"
   ]
  },
  {
   "cell_type": "markdown",
   "metadata": {},
   "source": [
    "## Sentence vectors"
   ]
  },
  {
   "cell_type": "markdown",
   "metadata": {},
   "source": [
    "To calculate sentence vectors: I made a file with all the vectors for my vocabulary, calculated by fastText. I will read it into a dictionary.  \n",
    "Vector of sentence = weighted mean of its word vectors (https://openreview.net/pdf?id=SyK00v5xx).  \n",
    "To calculate word or sentence similarity: relative cosine distance (https://ufal.mff.cuni.cz/pbml/105/art-leeuwenberg-et-al.pdf).  \n",
    "Add sentence id to the keyword database, to know which words are in which sentence."
   ]
  },
  {
   "cell_type": "code",
   "execution_count": 3,
   "metadata": {
    "collapsed": true
   },
   "outputs": [],
   "source": [
    "voc_vectors = {}\n",
    "with open('voc_vectors.txt', 'rb') as f:\n",
    "    content = f.readlines()"
   ]
  },
  {
   "cell_type": "code",
   "execution_count": 4,
   "metadata": {
    "collapsed": true
   },
   "outputs": [],
   "source": [
    "for line in content:\n",
    "    line = line.decode(\"utf-8\").split(\" \", 1)\n",
    "    voc_vectors[line[0]] = {'vector': np.fromstring(line[1].strip(), sep=' '), 'sentenceIDs' : []}"
   ]
  },
  {
   "cell_type": "code",
   "execution_count": 16,
   "metadata": {
    "collapsed": true
   },
   "outputs": [],
   "source": [
    "#debugged\n",
    "def is_english_sentence(sent):\n",
    "    \"\"\"determines whether a word is English/author\"\"\"\n",
    "    sentence = []\n",
    "    for w in str(sent).split():\n",
    "        w = str(w).lower()\n",
    "        if w in authors:\n",
    "            sentence.append(w)\n",
    "        else: \n",
    "            try:\n",
    "                w.encode(encoding='utf-8').decode('ascii')\n",
    "                    # if re.sub('-', '', word).isalpha():\n",
    "                        # english_words.append(re.sub('[%s]' % re.escape(string.punctuation), '', word))\n",
    "                word = re.sub('[%s]' % re.escape(string.punctuation), '', w)\n",
    "                if word.isalpha():\n",
    "                    sentence.append(word)\n",
    "            except UnicodeDecodeError:\n",
    "                pass\n",
    "    return sentence"
   ]
  },
  {
   "cell_type": "code",
   "execution_count": 5,
   "metadata": {
    "collapsed": true
   },
   "outputs": [],
   "source": [
    "#debugged\n",
    "def avg_feature_vector(words, word_to_vec, id_, num_features = 300):\n",
    "    \"\"\"words is list of words, num_features in dimension of vector, word_to_vec is dict with word:vector\n",
    "    appends sentence ids to word_to_vec so we can quickly recover which words are in which sentences\n",
    "    returns average feature vector for the sentence\"\"\"\n",
    "    #function to average all words vectors in a given paragraph\n",
    "    featureVec = np.zeros((num_features,), dtype=\"float32\")\n",
    "    nwords = 0\n",
    "    for word in words:\n",
    "        if word in word_to_vec:\n",
    "            nwords = nwords+1\n",
    "            featureVec = np.add(featureVec, word_to_vec[word]['vector'])\n",
    "            word_to_vec[word]['sentenceIDs'].append(id_)\n",
    "    if(nwords>0):\n",
    "        featureVec = np.divide(featureVec, nwords)\n",
    "    return featureVec"
   ]
  },
  {
   "cell_type": "code",
   "execution_count": 4,
   "metadata": {
    "collapsed": true
   },
   "outputs": [],
   "source": [
    "sentences = db.get_collection('sentences')"
   ]
  },
  {
   "cell_type": "code",
   "execution_count": 7,
   "metadata": {},
   "outputs": [
    {
     "data": {
      "text/plain": [
       "631676"
      ]
     },
     "execution_count": 7,
     "metadata": {},
     "output_type": "execute_result"
    }
   ],
   "source": [
    "sentences.count()"
   ]
  },
  {
   "cell_type": "markdown",
   "metadata": {},
   "source": [
    "In order to save time, I will have to manually parallelize. First, put everything in df. Then partition the df and run each sentence through the bigrammizer, this is that part that takes the longest. \n",
    "Then, calculate the average sentence vectors and the sentence similarities."
   ]
  },
  {
   "cell_type": "code",
   "execution_count": 11,
   "metadata": {
    "collapsed": true
   },
   "outputs": [],
   "source": [
    "# the formula used here is wrong. According to the paper it should be the sum of the similarities \n",
    "# between the top n most similar words...\n",
    "\n",
    "def create_df_rel_cs(vectors, ids):\n",
    "    \"\"\"calculates relative cosine distance between two sentences and returns df with sentenceids and their distance\"\"\"\n",
    "    cos_sim = cosine_similarity(np.asarray(vectors))\n",
    "    # sum_cs = np.sum(cos_sim, 1)[0]\n",
    "    # rel_cs = cos_sim / sum_cs\n",
    "    df = pd.DataFrame(cos_sim, index = ids, columns = ids)\n",
    "    return df"
   ]
  },
  {
   "cell_type": "code",
   "execution_count": 3,
   "metadata": {
    "collapsed": true
   },
   "outputs": [],
   "source": [
    "keywords = db.get_collection('keywords')"
   ]
  },
  {
   "cell_type": "code",
   "execution_count": 33,
   "metadata": {},
   "outputs": [
    {
     "ename": "MemoryError",
     "evalue": "",
     "output_type": "error",
     "traceback": [
      "\u001b[0;31m---------------------------------------------------------------------------\u001b[0m",
      "\u001b[0;31mMemoryError\u001b[0m                               Traceback (most recent call last)",
      "\u001b[0;32m<ipython-input-33-e1e467c15840>\u001b[0m in \u001b[0;36m<module>\u001b[0;34m()\u001b[0m\n\u001b[1;32m     18\u001b[0m     \u001b[0mvectors\u001b[0m\u001b[0;34m.\u001b[0m\u001b[0mappend\u001b[0m\u001b[0;34m(\u001b[0m\u001b[0mavg_feature_vector\u001b[0m\u001b[0;34m(\u001b[0m\u001b[0msentence\u001b[0m\u001b[0;34m,\u001b[0m \u001b[0mvoc_vectors\u001b[0m\u001b[0;34m,\u001b[0m \u001b[0msent\u001b[0m\u001b[0;34m[\u001b[0m\u001b[0;34m'_id'\u001b[0m\u001b[0;34m]\u001b[0m\u001b[0;34m)\u001b[0m\u001b[0;34m)\u001b[0m\u001b[0;34m\u001b[0m\u001b[0m\n\u001b[1;32m     19\u001b[0m \u001b[0;34m\u001b[0m\u001b[0m\n\u001b[0;32m---> 20\u001b[0;31m \u001b[0mdf\u001b[0m \u001b[0;34m=\u001b[0m \u001b[0mcreate_df_rel_cs\u001b[0m\u001b[0;34m(\u001b[0m\u001b[0mvectors\u001b[0m\u001b[0;34m,\u001b[0m \u001b[0mid_s\u001b[0m\u001b[0;34m)\u001b[0m\u001b[0;34m\u001b[0m\u001b[0m\n\u001b[0m\u001b[1;32m     21\u001b[0m \u001b[0;34m\u001b[0m\u001b[0m\n\u001b[1;32m     22\u001b[0m \u001b[0;31m# store sentence ids in keyword db\u001b[0m\u001b[0;34m\u001b[0m\u001b[0;34m\u001b[0m\u001b[0m\n",
      "\u001b[0;32m<ipython-input-6-730279b98cb4>\u001b[0m in \u001b[0;36mcreate_df_rel_cs\u001b[0;34m(vectors, ids)\u001b[0m\n\u001b[1;32m      4\u001b[0m \u001b[0;32mdef\u001b[0m \u001b[0mcreate_df_rel_cs\u001b[0m\u001b[0;34m(\u001b[0m\u001b[0mvectors\u001b[0m\u001b[0;34m,\u001b[0m \u001b[0mids\u001b[0m\u001b[0;34m)\u001b[0m\u001b[0;34m:\u001b[0m\u001b[0;34m\u001b[0m\u001b[0m\n\u001b[1;32m      5\u001b[0m     \u001b[0;34m\"\"\"calculates relative cosine distance between two sentences and returns df with sentenceids and their distance\"\"\"\u001b[0m\u001b[0;34m\u001b[0m\u001b[0m\n\u001b[0;32m----> 6\u001b[0;31m     \u001b[0mcos_sim\u001b[0m \u001b[0;34m=\u001b[0m \u001b[0mcosine_similarity\u001b[0m\u001b[0;34m(\u001b[0m\u001b[0mnp\u001b[0m\u001b[0;34m.\u001b[0m\u001b[0masarray\u001b[0m\u001b[0;34m(\u001b[0m\u001b[0mvectors\u001b[0m\u001b[0;34m)\u001b[0m\u001b[0;34m)\u001b[0m\u001b[0;34m\u001b[0m\u001b[0m\n\u001b[0m\u001b[1;32m      7\u001b[0m     \u001b[0msum_cs\u001b[0m \u001b[0;34m=\u001b[0m \u001b[0mnp\u001b[0m\u001b[0;34m.\u001b[0m\u001b[0msum\u001b[0m\u001b[0;34m(\u001b[0m\u001b[0mcos_sim\u001b[0m\u001b[0;34m,\u001b[0m \u001b[0;36m1\u001b[0m\u001b[0;34m)\u001b[0m\u001b[0;34m[\u001b[0m\u001b[0;36m0\u001b[0m\u001b[0;34m]\u001b[0m\u001b[0;34m\u001b[0m\u001b[0m\n\u001b[1;32m      8\u001b[0m     \u001b[0mrel_cs\u001b[0m \u001b[0;34m=\u001b[0m \u001b[0mcos_sim\u001b[0m \u001b[0;34m/\u001b[0m \u001b[0msum_cs\u001b[0m\u001b[0;34m\u001b[0m\u001b[0m\n",
      "\u001b[0;32m/home/aleksandra/anaconda3/lib/python3.6/site-packages/sklearn/metrics/pairwise.py\u001b[0m in \u001b[0;36mcosine_similarity\u001b[0;34m(X, Y, dense_output)\u001b[0m\n\u001b[1;32m    916\u001b[0m         \u001b[0mY_normalized\u001b[0m \u001b[0;34m=\u001b[0m \u001b[0mnormalize\u001b[0m\u001b[0;34m(\u001b[0m\u001b[0mY\u001b[0m\u001b[0;34m,\u001b[0m \u001b[0mcopy\u001b[0m\u001b[0;34m=\u001b[0m\u001b[0;32mTrue\u001b[0m\u001b[0;34m)\u001b[0m\u001b[0;34m\u001b[0m\u001b[0m\n\u001b[1;32m    917\u001b[0m \u001b[0;34m\u001b[0m\u001b[0m\n\u001b[0;32m--> 918\u001b[0;31m     \u001b[0mK\u001b[0m \u001b[0;34m=\u001b[0m \u001b[0msafe_sparse_dot\u001b[0m\u001b[0;34m(\u001b[0m\u001b[0mX_normalized\u001b[0m\u001b[0;34m,\u001b[0m \u001b[0mY_normalized\u001b[0m\u001b[0;34m.\u001b[0m\u001b[0mT\u001b[0m\u001b[0;34m,\u001b[0m \u001b[0mdense_output\u001b[0m\u001b[0;34m=\u001b[0m\u001b[0mdense_output\u001b[0m\u001b[0;34m)\u001b[0m\u001b[0;34m\u001b[0m\u001b[0m\n\u001b[0m\u001b[1;32m    919\u001b[0m \u001b[0;34m\u001b[0m\u001b[0m\n\u001b[1;32m    920\u001b[0m     \u001b[0;32mreturn\u001b[0m \u001b[0mK\u001b[0m\u001b[0;34m\u001b[0m\u001b[0m\n",
      "\u001b[0;32m/home/aleksandra/anaconda3/lib/python3.6/site-packages/sklearn/utils/extmath.py\u001b[0m in \u001b[0;36msafe_sparse_dot\u001b[0;34m(a, b, dense_output)\u001b[0m\n\u001b[1;32m    187\u001b[0m         \u001b[0;32mreturn\u001b[0m \u001b[0mret\u001b[0m\u001b[0;34m\u001b[0m\u001b[0m\n\u001b[1;32m    188\u001b[0m     \u001b[0;32melse\u001b[0m\u001b[0;34m:\u001b[0m\u001b[0;34m\u001b[0m\u001b[0m\n\u001b[0;32m--> 189\u001b[0;31m         \u001b[0;32mreturn\u001b[0m \u001b[0mfast_dot\u001b[0m\u001b[0;34m(\u001b[0m\u001b[0ma\u001b[0m\u001b[0;34m,\u001b[0m \u001b[0mb\u001b[0m\u001b[0;34m)\u001b[0m\u001b[0;34m\u001b[0m\u001b[0m\n\u001b[0m\u001b[1;32m    190\u001b[0m \u001b[0;34m\u001b[0m\u001b[0m\n\u001b[1;32m    191\u001b[0m \u001b[0;34m\u001b[0m\u001b[0m\n",
      "\u001b[0;31mMemoryError\u001b[0m: "
     ]
    }
   ],
   "source": [
    "# udpate word vectors dict with sentence IDs and calculate sentence vectors\n",
    "vectors = []\n",
    "id_s = []\n",
    "for sent in sentences.find():\n",
    "    id_s.append(sent['_id'])\n",
    "    sentence = bigrams[is_english_sentence(sent['sentence'].split())]\n",
    "    vectors.append(avg_feature_vector(sentence, voc_vectors, sent['_id']))\n",
    "\n",
    "df = create_df_rel_cs(vectors, id_s)\n",
    "\n",
    "# store sentence ids in keyword db\n",
    "for entry in voc_vectors:\n",
    "    keywords.insert_one({'word': entry, 'sentenceIDs': list(set(voc_vectors[entry]['sentenceIDs']))})\n",
    "\n",
    "# save distances as csv to figure out which the similarity threshold is we are going to use\n",
    "df.to_csv('sentence_distances.csv')\n",
    "joblib.dump(voc_vectors, 'voc_vectors_dict')"
   ]
  },
  {
   "cell_type": "code",
   "execution_count": 35,
   "metadata": {},
   "outputs": [
    {
     "data": {
      "text/plain": [
       "['sentence_ids']"
      ]
     },
     "execution_count": 35,
     "metadata": {},
     "output_type": "execute_result"
    }
   ],
   "source": [
    "joblib.dump(vectors, 'sentence_vectors')\n",
    "joblib.dump(id_s, 'sentence_ids')"
   ]
  },
  {
   "cell_type": "code",
   "execution_count": 36,
   "metadata": {},
   "outputs": [
    {
     "data": {
      "text/plain": [
       "['voc_vectors_dict']"
      ]
     },
     "execution_count": 36,
     "metadata": {},
     "output_type": "execute_result"
    }
   ],
   "source": [
    "joblib.dump(voc_vectors, 'voc_vectors_dict')"
   ]
  },
  {
   "cell_type": "markdown",
   "metadata": {},
   "source": [
    "Store sentence IDs in word database:"
   ]
  },
  {
   "cell_type": "code",
   "execution_count": 43,
   "metadata": {
    "collapsed": true
   },
   "outputs": [],
   "source": [
    "for entry in voc_vectors:\n",
    "    keywords.insert_one({'word': entry, 'sentenceIDs': list(set(voc_vectors[entry]['sentenceIDs']))})"
   ]
  },
  {
   "cell_type": "code",
   "execution_count": 9,
   "metadata": {
    "collapsed": true
   },
   "outputs": [],
   "source": [
    "vectors = joblib.load('sentence_vectors')\n",
    "id_s = joblib.load('sentence_ids')"
   ]
  },
  {
   "cell_type": "code",
   "execution_count": 14,
   "metadata": {},
   "outputs": [
    {
     "data": {
      "text/plain": [
       "(631709, 300)"
      ]
     },
     "execution_count": 14,
     "metadata": {},
     "output_type": "execute_result"
    }
   ],
   "source": [
    "np.asarray(vectors).shape"
   ]
  },
  {
   "cell_type": "code",
   "execution_count": 23,
   "metadata": {},
   "outputs": [
    {
     "name": "stdout",
     "output_type": "stream",
     "text": [
      "ObjectId('59aea9b7b18b14a4ed17413f')\n",
      "ObjectId('59aea9b9b18b14a4ed1742a3')\n",
      "ObjectId('59aea9bab18b14a4ed174519')\n",
      "ObjectId('59aea9bbb18b14a4ed17477e')\n",
      "ObjectId('59aea9bdb18b14a4ed174ee7')\n",
      "ObjectId('59aea9beb18b14a4ed175747')\n",
      "ObjectId('59aea9beb18b14a4ed175bba')\n",
      "ObjectId('59aea9c5b18b14a4ed17a35c')\n",
      "ObjectId('59aea9c5b18b14a4ed17abf5')\n",
      "ObjectId('59aea9c6b18b14a4ed17b1f3')\n",
      "ObjectId('59aea9c6b18b14a4ed17b5bd')\n",
      "ObjectId('59aea9c6b18b14a4ed17b7d6')\n"
     ]
    }
   ],
   "source": [
    "from bson import ObjectId\n",
    "keywords = db.get_collection('keywords')\n",
    "for id_ in keywords.find()[0]['similar_words']:\n",
    "    print(repr(ObjectId(id_)))\n",
    "    for doc in keywords.find({'_id': repr(ObjectId(id_))}):\n",
    "        print (doc['word'])"
   ]
  },
  {
   "cell_type": "code",
   "execution_count": 6,
   "metadata": {},
   "outputs": [
    {
     "data": {
      "text/plain": [
       "2"
      ]
     },
     "execution_count": 6,
     "metadata": {},
     "output_type": "execute_result"
    }
   ],
   "source": [
    "keywords.find({'informative_sents':{'$exists': True}}).count()"
   ]
  },
  {
   "cell_type": "code",
   "execution_count": 7,
   "metadata": {},
   "outputs": [
    {
     "data": {
      "text/plain": [
       "{'_id': ObjectId('59aea9b2b18b14a4ed17403a'),\n",
       " 'frequency': 453,\n",
       " 'informative_sents': [ObjectId('59a86b03b18b1408616c6852'),\n",
       "  ObjectId('59aa933bb18b14085d6d0e39'),\n",
       "  ObjectId('59aaa9e8b18b1408626d42a9'),\n",
       "  ObjectId('59a867d6b18b14085e6c6aa7'),\n",
       "  ObjectId('59a85edfb18b14085b6c5cfa'),\n",
       "  ObjectId('59a89165b18b14085f6c91d1'),\n",
       "  ObjectId('59a86b39b18b1408616c68d1'),\n",
       "  ObjectId('59aa9135b18b14085d6d0dd8'),\n",
       "  ObjectId('59a9ed44b18b14085b6d2f1a'),\n",
       "  ObjectId('59a89acfb18b14085b6c6e91'),\n",
       "  ObjectId('59ab32e2b18b14085c6cef93'),\n",
       "  ObjectId('59abb684b18b1408636cf3e9'),\n",
       "  ObjectId('59aa333bb18b14085d6cf681'),\n",
       "  ObjectId('59a8a31bb18b14085f6ca6c9'),\n",
       "  ObjectId('59aa93fcb18b14085d6d0e5d'),\n",
       "  ObjectId('59aa8e26b18b14085d6d0d46'),\n",
       "  ObjectId('59a9b21ab18b14085b6d0b0a'),\n",
       "  ObjectId('59aa7c17b18b1408626d3a6c'),\n",
       "  ObjectId('59a86100b18b14085b6c5e03'),\n",
       "  ObjectId('59ab84c8b18b1408616d5b1d'),\n",
       "  ObjectId('59a864eab18b14085f6c648e'),\n",
       "  ObjectId('59a8711ab18b14085d6c7029'),\n",
       "  ObjectId('59a87438b18b1408616c75c2'),\n",
       "  ObjectId('59aa19f4b18b14085d6cf250'),\n",
       "  ObjectId('59a9cb50b18b14085d6ce530'),\n",
       "  ObjectId('59ab32b4b18b14085c6cef04'),\n",
       "  ObjectId('59ab5492b18b1408636cc3f9'),\n",
       "  ObjectId('59a9deb0b18b14085d6ce87a'),\n",
       "  ObjectId('59a87123b18b14085d6c702f'),\n",
       "  ObjectId('59a86719b18b14085e6c69cd'),\n",
       "  ObjectId('59a8cc98b18b14085f6cb0c7'),\n",
       "  ObjectId('59a887cab18b14085e6c900e'),\n",
       "  ObjectId('59aafb1bb18b14085c6ccaf1'),\n",
       "  ObjectId('59a86855b18b14085e6c6b3d'),\n",
       "  ObjectId('59a9f6eab18b14085d6cec91'),\n",
       "  ObjectId('59a92d02b18b1408646d1c85'),\n",
       "  ObjectId('59a86b0fb18b1408616c686f'),\n",
       "  ObjectId('59aab493b18b1408626d4495'),\n",
       "  ObjectId('59a864aeb18b14085b6c5fc9'),\n",
       "  ObjectId('59a887c9b18b14085e6c900d'),\n",
       "  ObjectId('59aa3170b18b14085f6d34d1'),\n",
       "  ObjectId('59a86782b18b14085e6c6a49'),\n",
       "  ObjectId('59aa6c29b18b1408616ccd49'),\n",
       "  ObjectId('59aa9421b18b14085d6d0e64'),\n",
       "  ObjectId('59aa8e87b18b14085d6d0d58'),\n",
       "  ObjectId('59aa93dcb18b14085d6d0e57'),\n",
       "  ObjectId('59aa3469b18b14085d6cf6b6'),\n",
       "  ObjectId('59a8901eb18b1408626c860a'),\n",
       "  ObjectId('59a87559b18b14085d6c733a'),\n",
       "  ObjectId('59aaf18db18b14085d6d513e'),\n",
       "  ObjectId('59aa9807b18b1408626d3f72'),\n",
       "  ObjectId('59a85efeb18b14085b6c5d08'),\n",
       "  ObjectId('59a9fb46b18b14085d6ced4b'),\n",
       "  ObjectId('59aa92e1b18b14085d6d0e28'),\n",
       "  ObjectId('59ab84bbb18b1408616d5b1b'),\n",
       "  ObjectId('59aa92fcb18b14085d6d0e2d'),\n",
       "  ObjectId('59a8721eb18b14085d6c70d5'),\n",
       "  ObjectId('59aa9114b18b14085d6d0dd2'),\n",
       "  ObjectId('59aa918fb18b14085d6d0de9'),\n",
       "  ObjectId('59a9fc24b18b14085d6ced6f'),\n",
       "  ObjectId('59abb6d2b18b1408636cf45b'),\n",
       "  ObjectId('59a8e799b18b1408646ce22e'),\n",
       "  ObjectId('59aa3f62b18b14085e6cdbf0'),\n",
       "  ObjectId('59aa904eb18b14085d6d0dad'),\n",
       "  ObjectId('59a864b2b18b14085b6c5fcb'),\n",
       "  ObjectId('59abb614b18b1408636cf347'),\n",
       "  ObjectId('59aa0810b18b14085d6cef61'),\n",
       "  ObjectId('59aa934bb18b14085d6d0e3c'),\n",
       "  ObjectId('59aa1b37b18b14085d6cf282'),\n",
       "  ObjectId('59aa8911b18b1408616cd41f'),\n",
       "  ObjectId('59a8688fb18b14085c6c68c2'),\n",
       "  ObjectId('59a86b65b18b1408616c693b'),\n",
       "  ObjectId('59a8707eb18b14085d6c6fc0'),\n",
       "  ObjectId('59ab8878b18b14085c6d5170'),\n",
       "  ObjectId('59aa3fabb18b14085e6cdc71'),\n",
       "  ObjectId('59a897d6b18b14085f6c993c'),\n",
       "  ObjectId('59aa5b2fb18b1408626d348d'),\n",
       "  ObjectId('59a85acfb18b146dda84ff2b'),\n",
       "  ObjectId('59aa698cb18b1408616cccac'),\n",
       "  ObjectId('59ab3da7b18b1408616d41de'),\n",
       "  ObjectId('59a92d13b18b1408646d1ca3'),\n",
       "  ObjectId('59aa2cb7b18b1408626d1ab6'),\n",
       "  ObjectId('59aac8cdb18b14085d6d183a'),\n",
       "  ObjectId('59a8b601b18b14085f6cad0d'),\n",
       "  ObjectId('59aa3f5bb18b14085e6cdbe5'),\n",
       "  ObjectId('59ac726ab18b1408636d2131'),\n",
       "  ObjectId('59a9fb85b18b14085d6ced55'),\n",
       "  ObjectId('59ab32d2b18b14085c6cef60'),\n",
       "  ObjectId('59a99ce7b18b14085b6cfb86'),\n",
       "  ObjectId('59aa93c6b18b14085d6d0e53'),\n",
       "  ObjectId('59a866dab18b14085e6c697f'),\n",
       "  ObjectId('59aa481bb18b1408616cc4c8'),\n",
       "  ObjectId('59a8915ab18b14085f6c91c9'),\n",
       "  ObjectId('59a88864b18b14085e6c90ce'),\n",
       "  ObjectId('59a87003b18b14085d6c6f6e'),\n",
       "  ObjectId('59aa93d1b18b14085d6d0e55'),\n",
       "  ObjectId('59ab5fffb18b14085c6d26d6'),\n",
       "  ObjectId('59aa1c11b18b14085d6cf2a4'),\n",
       "  ObjectId('59a867f1b18b14085e6c6ac7'),\n",
       "  ObjectId('59ab4a44b18b14085e6d1b51'),\n",
       "  ObjectId('59a88abdb18b1408606c7ebc'),\n",
       "  ObjectId('59a92cfbb18b1408646d1c79'),\n",
       "  ObjectId('59a88fc0b18b1408626c85bb'),\n",
       "  ObjectId('59ab3debb18b1408616d4258'),\n",
       "  ObjectId('59aa8e2cb18b14085d6d0d47'),\n",
       "  ObjectId('59a866c0b18b14085e6c695f'),\n",
       "  ObjectId('59aa3fabb18b14085e6cdc72'),\n",
       "  ObjectId('59a883feb18b14085e6c895c'),\n",
       "  ObjectId('59a953d3b18b1408606cf7e2'),\n",
       "  ObjectId('59a86f2fb18b14085d6c6ee1'),\n",
       "  ObjectId('59a9fc2fb18b14085d6ced71'),\n",
       "  ObjectId('59a9caf4b18b14085d6ce520'),\n",
       "  ObjectId('59ac7119b18b1408636d2069'),\n",
       "  ObjectId('59a8d134b18b14085f6cb189'),\n",
       "  ObjectId('59a89191b18b14085f6c91f1'),\n",
       "  ObjectId('59aa941cb18b14085d6d0e63'),\n",
       "  ObjectId('59ab83d3b18b1408616d5af8'),\n",
       "  ObjectId('59a89485b18b1408626c89c5'),\n",
       "  ObjectId('59aa6f25b18b1408616ccdfc'),\n",
       "  ObjectId('59a9e323b18b14085d6ce933'),\n",
       "  ObjectId('59aa9477b18b14085d6d0e74'),\n",
       "  ObjectId('59aa5a6db18b1408626d346a'),\n",
       "  ObjectId('59aaabf2b18b1408626d4307'),\n",
       "  ObjectId('59aaa821b18b1408626d4257'),\n",
       "  ObjectId('59a9f3c9b18b14085d6cec06'),\n",
       "  ObjectId('59a8685ab18b14085e6c6b43'),\n",
       "  ObjectId('59a8e7a3b18b1408646ce236'),\n",
       "  ObjectId('59aa3f65b18b14085e6cdbf6'),\n",
       "  ObjectId('59ab2556b18b1408616d3a70'),\n",
       "  ObjectId('59ab3deeb18b1408616d425d'),\n",
       "  ObjectId('59a8667db18b14085e6c690f'),\n",
       "  ObjectId('59a954e0b18b1408626cbce8'),\n",
       "  ObjectId('59aa3f60b18b14085e6cdbed'),\n",
       "  ObjectId('59a86143b18b14085b6c5e23'),\n",
       "  ObjectId('59abb368b18b1408636cefe6'),\n",
       "  ObjectId('59a89066b18b1408626c8646'),\n",
       "  ObjectId('59aa9276b18b14085d6d0e14'),\n",
       "  ObjectId('59aa6e28b18b1408616ccdc1'),\n",
       "  ObjectId('59aa938cb18b14085d6d0e48'),\n",
       "  ObjectId('59a8daefb18b14085b6c8f5d'),\n",
       "  ObjectId('59aaefb9b18b14085d6d4f4d'),\n",
       "  ObjectId('59a9f6f6b18b14085d6cec93'),\n",
       "  ObjectId('59a88414b18b14085e6c8978'),\n",
       "  ObjectId('59a8859db18b14085f6c8162'),\n",
       "  ObjectId('59a86853b18b14085e6c6b3b'),\n",
       "  ObjectId('59a9f37db18b14085d6cebf9'),\n",
       "  ObjectId('59a92d28b18b1408646d1cca'),\n",
       "  ObjectId('59a86838b18b14085e6c6b19'),\n",
       "  ObjectId('59a9381ab18b1408606ce481'),\n",
       "  ObjectId('59a90facb18b14085f6cc279'),\n",
       "  ObjectId('59aa9447b18b14085d6d0e6b'),\n",
       "  ObjectId('59aa3081b18b14085f6d338e'),\n",
       "  ObjectId('59a9fc19b18b14085d6ced6d'),\n",
       "  ObjectId('59a8886cb18b14085e6c90d7'),\n",
       "  ObjectId('59a9f4deb18b14085d6cec36'),\n",
       "  ObjectId('59ab88f3b18b14085c6d51be'),\n",
       "  ObjectId('59a8681db18b14085e6c6af9'),\n",
       "  ObjectId('59ab5494b18b1408636cc400'),\n",
       "  ObjectId('59aa4661b18b14085e6ce655'),\n",
       "  ObjectId('59ab3de4b18b1408616d424b'),\n",
       "  ObjectId('59a864fab18b14085b6c5fed'),\n",
       "  ObjectId('59aa6984b18b1408616cccaa'),\n",
       "  ObjectId('59a8650eb18b14085b6c5ff7'),\n",
       "  ObjectId('59aafb09b18b14085c6ccad9'),\n",
       "  ObjectId('59a88555b18b14085f6c80f3'),\n",
       "  ObjectId('59a953dcb18b1408606cf7ec'),\n",
       "  ObjectId('59aa8ff9b18b14085d6d0d9d'),\n",
       "  ObjectId('59a9f22db18b14085d6cebbf'),\n",
       "  ObjectId('59a875cab18b14085d6c73e1'),\n",
       "  ObjectId('59aa92e6b18b14085d6d0e29'),\n",
       "  ObjectId('59a86792b18b14085e6c6a5b'),\n",
       "  ObjectId('59aafb08b18b14085c6ccad8'),\n",
       "  ObjectId('59aa93a6b18b14085d6d0e4d'),\n",
       "  ObjectId('59a8842eb18b14085e6c899b'),\n",
       "  ObjectId('59abb5c5b18b1408636cf2d3'),\n",
       "  ObjectId('59a9f372b18b14085d6cebf7'),\n",
       "  ObjectId('59a885d7b18b1408606c7d35'),\n",
       "  ObjectId('59a87aa7b18b1408626c73db'),\n",
       "  ObjectId('59aa9311b18b14085d6d0e31'),\n",
       "  ObjectId('59aab7a6b18b1408626d4523'),\n",
       "  ObjectId('59a868ddb18b14085e6c6be3'),\n",
       "  ObjectId('59aa9326b18b14085d6d0e35'),\n",
       "  ObjectId('59ab88d7b18b14085e6d3e17')],\n",
       " 'sentenceIDs': [ObjectId('59a86b03b18b1408616c6852'),\n",
       "  ObjectId('59aa933bb18b14085d6d0e39'),\n",
       "  ObjectId('59a89167b18b14085f6c91d2'),\n",
       "  ObjectId('59ab4a8bb18b14085c6d09c9'),\n",
       "  ObjectId('59a9f735b18b14085d6cec9e'),\n",
       "  ObjectId('59a8719ab18b14085d6c707d'),\n",
       "  ObjectId('59ab439ab18b14085e6d19f0'),\n",
       "  ObjectId('59a86b16b18b1408616c687e'),\n",
       "  ObjectId('59aaa9e8b18b1408626d42a9'),\n",
       "  ObjectId('59a867d6b18b14085e6c6aa7'),\n",
       "  ObjectId('59a9cafab18b14085d6ce521'),\n",
       "  ObjectId('59a953cfb18b1408606cf7dd'),\n",
       "  ObjectId('59aa6390b18b14085d6d0561'),\n",
       "  ObjectId('59aafb10b18b14085c6ccae2'),\n",
       "  ObjectId('59a9fd07b18b14085d6ced92'),\n",
       "  ObjectId('59ab3293b18b14085c6ceea1'),\n",
       "  ObjectId('59a86b35b18b1408616c68c7'),\n",
       "  ObjectId('59a85edfb18b14085b6c5cfa'),\n",
       "  ObjectId('59aa3faab18b14085e6cdc70'),\n",
       "  ObjectId('59a89165b18b14085f6c91d1'),\n",
       "  ObjectId('59a86b39b18b1408616c68d1'),\n",
       "  ObjectId('59a9fcd1b18b14085d6ced8a'),\n",
       "  ObjectId('59a89695b18b14085f6c97e2'),\n",
       "  ObjectId('59a8b569b18b14085f6cacf4'),\n",
       "  ObjectId('59aa9135b18b14085d6d0dd8'),\n",
       "  ObjectId('59a9ed44b18b14085b6d2f1a'),\n",
       "  ObjectId('59aa9200b18b14085d6d0dfe'),\n",
       "  ObjectId('59a89acfb18b14085b6c6e91'),\n",
       "  ObjectId('59ab32e2b18b14085c6cef93'),\n",
       "  ObjectId('59abb684b18b1408636cf3e9'),\n",
       "  ObjectId('59a86b00b18b1408616c684c'),\n",
       "  ObjectId('59aa333bb18b14085d6cf681'),\n",
       "  ObjectId('59aa10afb18b14085d6cf0c6'),\n",
       "  ObjectId('59a8a31bb18b14085f6ca6c9'),\n",
       "  ObjectId('59aa5425b18b14085e6ced44'),\n",
       "  ObjectId('59ab5750b18b14085e6d1e0d'),\n",
       "  ObjectId('59a87109b18b14085d6c701e'),\n",
       "  ObjectId('59a9a6a7b18b14085b6cfeaf'),\n",
       "  ObjectId('59aafb24b18b14085c6ccafd'),\n",
       "  ObjectId('59a87560b18b14085d6c7344'),\n",
       "  ObjectId('59aafa61b18b14085c6cc9fe'),\n",
       "  ObjectId('59aa93fcb18b14085d6d0e5d'),\n",
       "  ObjectId('59a86b00b18b1408616c684d'),\n",
       "  ObjectId('59aa8e26b18b14085d6d0d46'),\n",
       "  ObjectId('59a9b21ab18b14085b6d0b0a'),\n",
       "  ObjectId('59a88859b18b14085e6c90c1'),\n",
       "  ObjectId('59aa0fddb18b14085d6cf0a1'),\n",
       "  ObjectId('59aa7c17b18b1408626d3a6c'),\n",
       "  ObjectId('59a896afb18b14085f6c97fd'),\n",
       "  ObjectId('59a86100b18b14085b6c5e03'),\n",
       "  ObjectId('59ab84c8b18b1408616d5b1d'),\n",
       "  ObjectId('59a864eab18b14085f6c648e'),\n",
       "  ObjectId('59ab4a82b18b14085c6d09bc'),\n",
       "  ObjectId('59a8e244b18b1408606c988e'),\n",
       "  ObjectId('59a8711ab18b14085d6c7029'),\n",
       "  ObjectId('59a86381b18b14085b6c5f39'),\n",
       "  ObjectId('59a87438b18b1408616c75c2'),\n",
       "  ObjectId('59a92d10b18b1408646d1c9d'),\n",
       "  ObjectId('59a8e7deb18b1408606c9adf'),\n",
       "  ObjectId('59aa316bb18b14085f6d34cb'),\n",
       "  ObjectId('59aa19f4b18b14085d6cf250'),\n",
       "  ObjectId('59a9f394b18b14085d6cebfd'),\n",
       "  ObjectId('59a9cb50b18b14085d6ce530'),\n",
       "  ObjectId('59aa3facb18b14085e6cdc73'),\n",
       "  ObjectId('59aa7b6fb18b1408626d3a4e'),\n",
       "  ObjectId('59a86b07b18b1408616c685d'),\n",
       "  ObjectId('59ab32b4b18b14085c6cef04'),\n",
       "  ObjectId('59ab6d8cb18b14085e6d22b3'),\n",
       "  ObjectId('59ab5492b18b1408636cc3f9'),\n",
       "  ObjectId('59a952edb18b1408606cf6ef'),\n",
       "  ObjectId('59aa9457b18b14085d6d0e6e'),\n",
       "  ObjectId('59a97100b18b1408626ce2bf'),\n",
       "  ObjectId('59a8a02cb18b1408646c99dc'),\n",
       "  ObjectId('59a86b07b18b1408616c685c'),\n",
       "  ObjectId('59a9deb0b18b14085d6ce87a'),\n",
       "  ObjectId('59ab2552b18b1408616d3a6f'),\n",
       "  ObjectId('59a953cfb18b1408606cf7de'),\n",
       "  ObjectId('59a86b02b18b1408616c6850'),\n",
       "  ObjectId('59a8a026b18b1408646c99d7'),\n",
       "  ObjectId('59a8669bb18b14085b6c60af'),\n",
       "  ObjectId('59a8e24cb18b1408606c9891'),\n",
       "  ObjectId('59a87123b18b14085d6c702f'),\n",
       "  ObjectId('59a9d875b18b14085f6cf092'),\n",
       "  ObjectId('59a86719b18b14085e6c69cd'),\n",
       "  ObjectId('59a8cc98b18b14085f6cb0c7'),\n",
       "  ObjectId('59a887cab18b14085e6c900e'),\n",
       "  ObjectId('59a864e6b18b14085f6c648b'),\n",
       "  ObjectId('59aa92d1b18b14085d6d0e25'),\n",
       "  ObjectId('59a88417b18b14085e6c897c'),\n",
       "  ObjectId('59aaa280b18b1408626d4154'),\n",
       "  ObjectId('59a86c6ab18b14085e6c70ce'),\n",
       "  ObjectId('59aa9855b18b1408626d3f80'),\n",
       "  ObjectId('59a9f402b18b14085d6cec10'),\n",
       "  ObjectId('59aa9aafb18b14085b6d67b4'),\n",
       "  ObjectId('59aafb1bb18b14085c6ccaf1'),\n",
       "  ObjectId('59a86afeb18b1408616c6846'),\n",
       "  ObjectId('59aa3f98b18b14085e6cdc4f'),\n",
       "  ObjectId('59ab3e00b18b1408616d427d'),\n",
       "  ObjectId('59a92d25b18b1408646d1cc4'),\n",
       "  ObjectId('59a86855b18b14085e6c6b3d'),\n",
       "  ObjectId('59a9f6eab18b14085d6cec91'),\n",
       "  ObjectId('59a92d02b18b1408646d1c85'),\n",
       "  ObjectId('59a9f9e4b18b14085d6ced13'),\n",
       "  ObjectId('59aa9009b18b14085d6d0da0'),\n",
       "  ObjectId('59a8ad60b18b14085f6cabaa'),\n",
       "  ObjectId('59a86afdb18b1408616c6845'),\n",
       "  ObjectId('59a86b02b18b1408616c6851'),\n",
       "  ObjectId('59a86df4b18b14085f6c6e10'),\n",
       "  ObjectId('59aa9069b18b14085d6d0db2'),\n",
       "  ObjectId('59a9538fb18b1408606cf79a'),\n",
       "  ObjectId('59a86af2b18b1408616c6829'),\n",
       "  ObjectId('59a89068b18b1408626c8648'),\n",
       "  ObjectId('59a86b0fb18b1408616c686f'),\n",
       "  ObjectId('59aab493b18b1408626d4495'),\n",
       "  ObjectId('59a864aeb18b14085b6c5fc9'),\n",
       "  ObjectId('59a887c9b18b14085e6c900d'),\n",
       "  ObjectId('59a9b008b18b14085b6d092b'),\n",
       "  ObjectId('59a8a105b18b1408646c9a85'),\n",
       "  ObjectId('59aa3170b18b14085f6d34d1'),\n",
       "  ObjectId('59aa38d4b18b14085e6cd138'),\n",
       "  ObjectId('59a9f740b18b14085d6ceca0'),\n",
       "  ObjectId('59a86782b18b14085e6c6a49'),\n",
       "  ObjectId('59ab5899b18b14085e6d1e51'),\n",
       "  ObjectId('59a91048b18b14085f6cc337'),\n",
       "  ObjectId('59a9ed16b18b14085f6d0c45'),\n",
       "  ObjectId('59aa9185b18b14085d6d0de7'),\n",
       "  ObjectId('59a86e21b18b14085f6c6e50'),\n",
       "  ObjectId('59a86b1eb18b1408616c6890'),\n",
       "  ObjectId('59a953e3b18b1408606cf7f3'),\n",
       "  ObjectId('59ab5a41b18b14085c6d1d76'),\n",
       "  ObjectId('59aa6c29b18b1408616ccd49'),\n",
       "  ObjectId('59a9f718b18b14085d6cec99'),\n",
       "  ObjectId('59ab1035b18b1408616d346c'),\n",
       "  ObjectId('59aa9421b18b14085d6d0e64'),\n",
       "  ObjectId('59ab5066b18b1408636cbc4b'),\n",
       "  ObjectId('59a9f72ab18b14085d6cec9c'),\n",
       "  ObjectId('59a85f37b18b14085e6c5d85'),\n",
       "  ObjectId('59aa8e87b18b14085d6d0d58'),\n",
       "  ObjectId('59aa93dcb18b14085d6d0e57'),\n",
       "  ObjectId('59a92d29b18b1408646d1ccb'),\n",
       "  ObjectId('59aa3469b18b14085d6cf6b6'),\n",
       "  ObjectId('59aa3f95b18b14085e6cdc4b'),\n",
       "  ObjectId('59ab50f8b18b14085e6d1cb9'),\n",
       "  ObjectId('59a8901eb18b1408626c860a'),\n",
       "  ObjectId('59aa926fb18b1408626d3e71'),\n",
       "  ObjectId('59a87559b18b14085d6c733a'),\n",
       "  ObjectId('59aaf18db18b14085d6d513e'),\n",
       "  ObjectId('59a8a1e1b18b14085e6c9a68'),\n",
       "  ObjectId('59a956e9b18b1408626cbf32'),\n",
       "  ObjectId('59aa9807b18b1408626d3f72'),\n",
       "  ObjectId('59a9cc72b18b14085d6ce562'),\n",
       "  ObjectId('59aaa211b18b1408626d4140'),\n",
       "  ObjectId('59aa3f67b18b14085e6cdbf9'),\n",
       "  ObjectId('59a952bbb18b1408626cba81'),\n",
       "  ObjectId('59aa31cbb18b14085f6d3518'),\n",
       "  ObjectId('59a867dcb18b14085e6c6aaf'),\n",
       "  ObjectId('59a85efeb18b14085b6c5d08'),\n",
       "  ObjectId('59a8e226b18b1408606c9882'),\n",
       "  ObjectId('59a95228b18b1408606cf613'),\n",
       "  ObjectId('59aa9482b18b14085d6d0e76'),\n",
       "  ObjectId('59a9fb46b18b14085d6ced4b'),\n",
       "  ObjectId('59aa92e1b18b14085d6d0e28'),\n",
       "  ObjectId('59ab84bbb18b1408616d5b1b'),\n",
       "  ObjectId('59aa92fcb18b14085d6d0e2d'),\n",
       "  ObjectId('59a86801b18b14085b6c6158'),\n",
       "  ObjectId('59a8e23fb18b1408606c988c'),\n",
       "  ObjectId('59a9fd72b18b14085d6ceda4'),\n",
       "  ObjectId('59a9f71eb18b14085d6cec9a'),\n",
       "  ObjectId('59a9d600b18b14085f6cedcd'),\n",
       "  ObjectId('59a8721eb18b14085d6c70d5'),\n",
       "  ObjectId('59a953dbb18b1408606cf7eb'),\n",
       "  ObjectId('59aa9114b18b14085d6d0dd2'),\n",
       "  ObjectId('59aa86bdb18b14085d6d0be5'),\n",
       "  ObjectId('59abb363b18b1408636cefe1'),\n",
       "  ObjectId('59a90feab18b14085d6cb2f8'),\n",
       "  ObjectId('59a887f0b18b14085e6c903d'),\n",
       "  ObjectId('59aa918fb18b14085d6d0de9'),\n",
       "  ObjectId('59aafce1b18b14085c6ccd73'),\n",
       "  ObjectId('59a896aeb18b14085f6c97fc'),\n",
       "  ObjectId('59a886cfb18b14085f6c8314'),\n",
       "  ObjectId('59a952e5b18b1408606cf6e7'),\n",
       "  ObjectId('59a9fc24b18b14085d6ced6f'),\n",
       "  ObjectId('59abb6d2b18b1408636cf45b'),\n",
       "  ObjectId('59a8e799b18b1408646ce22e'),\n",
       "  ObjectId('59aa3f62b18b14085e6cdbf0'),\n",
       "  ObjectId('59aa870eb18b14085d6d0bf4'),\n",
       "  ObjectId('59aa904eb18b14085d6d0dad'),\n",
       "  ObjectId('59a864b2b18b14085b6c5fcb'),\n",
       "  ObjectId('59a92d0ab18b1408646d1c92'),\n",
       "  ObjectId('59a864b0b18b14085b6c5fca'),\n",
       "  ObjectId('59abb614b18b1408636cf347'),\n",
       "  ObjectId('59aa0810b18b14085d6cef61'),\n",
       "  ObjectId('59aa934bb18b14085d6d0e3c'),\n",
       "  ObjectId('59aab4ecb18b1408626d44a5'),\n",
       "  ObjectId('59a8f372b18b1408606c9fac'),\n",
       "  ObjectId('59aa1b37b18b14085d6cf282'),\n",
       "  ObjectId('59aa8911b18b1408616cd41f'),\n",
       "  ObjectId('59a9c40eb18b14085d6ce3fd'),\n",
       "  ObjectId('59a8688fb18b14085c6c68c2'),\n",
       "  ObjectId('59a9ea84b18b14085d6cea6f'),\n",
       "  ObjectId('59aa8e61b18b14085d6d0d51'),\n",
       "  ObjectId('59aacefdb18b1408626d4a7b'),\n",
       "  ObjectId('59a86b65b18b1408616c693b'),\n",
       "  ObjectId('59a9f4d3b18b14085d6cec34'),\n",
       "  ObjectId('59a8707eb18b14085d6c6fc0'),\n",
       "  ObjectId('59ab8878b18b14085c6d5170'),\n",
       "  ObjectId('59a9c192b18b14085d6ce397'),\n",
       "  ObjectId('59aa3fabb18b14085e6cdc71'),\n",
       "  ObjectId('59a897d6b18b14085f6c993c'),\n",
       "  ObjectId('59aafb23b18b14085c6ccafc'),\n",
       "  ObjectId('59aa5b2fb18b1408626d348d'),\n",
       "  ObjectId('59a86dcbb18b14085f6c6dd5'),\n",
       "  ObjectId('59a8dfaeb18b1408646cdaa1'),\n",
       "  ObjectId('59a8e249b18b1408606c9890'),\n",
       "  ObjectId('59ab5082b18b14085e6d1ca0'),\n",
       "  ObjectId('59a85acfb18b146dda84ff2b'),\n",
       "  ObjectId('59aa926bb18b14085d6d0e12'),\n",
       "  ObjectId('59aa698cb18b1408616cccac'),\n",
       "  ObjectId('59a86b2ab18b1408616c68ac'),\n",
       "  ObjectId('59a95394b18b1408606cf7a0'),\n",
       "  ObjectId('59aa1bdeb18b14085d6cf29c'),\n",
       "  ObjectId('59ab3da7b18b1408616d41de'),\n",
       "  ObjectId('59a92d13b18b1408646d1ca3'),\n",
       "  ObjectId('59aa2cb7b18b1408626d1ab6'),\n",
       "  ObjectId('59a953d9b18b1408606cf7e9'),\n",
       "  ObjectId('59aac8cdb18b14085d6d183a'),\n",
       "  ObjectId('59a9cb00b18b14085d6ce522'),\n",
       "  ObjectId('59a8b601b18b14085f6cad0d'),\n",
       "  ObjectId('59aafa1ab18b14085c6cc9a0'),\n",
       "  ObjectId('59a86b29b18b1408616c68aa'),\n",
       "  ObjectId('59aa7b9cb18b1408626d3a56'),\n",
       "  ObjectId('59a9f35ab18b14085d6cebf3'),\n",
       "  ObjectId('59a8e2eeb18b1408606c98d5'),\n",
       "  ObjectId('59a8eac4b18b1408606c9c15'),\n",
       "  ObjectId('59a873e5b18b1408626c6cbe'),\n",
       "  ObjectId('59aa93b1b18b14085d6d0e4f'),\n",
       "  ObjectId('59a8665eb18b14085e6c68ea'),\n",
       "  ObjectId('59aa3f5bb18b14085e6cdbe5'),\n",
       "  ObjectId('59abb602b18b1408636cf32c'),\n",
       "  ObjectId('59ac726ab18b1408636d2131'),\n",
       "  ObjectId('59a9fb85b18b14085d6ced55'),\n",
       "  ObjectId('59aaf169b18b14085d6d50f2'),\n",
       "  ObjectId('59ab500ab18b14085e6d1c87'),\n",
       "  ObjectId('59aa3c42b18b14085d6cf945'),\n",
       "  ObjectId('59ab32d2b18b14085c6cef60'),\n",
       "  ObjectId('59aa3f14b18b14085e6cdb68'),\n",
       "  ObjectId('59a87564b18b14085d6c734a'),\n",
       "  ObjectId('59a94d73b18b1408606cf338'),\n",
       "  ObjectId('59a99ce7b18b14085b6cfb86'),\n",
       "  ObjectId('59ab2af1b18b1408616d3c09'),\n",
       "  ObjectId('59aa80e6b18b14085d6d0ace'),\n",
       "  ObjectId('59aa93c6b18b14085d6d0e53'),\n",
       "  ObjectId('59a953dfb18b1408606cf7ef'),\n",
       "  ObjectId('59a866dab18b14085e6c697f'),\n",
       "  ObjectId('59a90f22b18b1408606cb990'),\n",
       "  ObjectId('59ab525cb18b14085e6d1d03'),\n",
       "  ObjectId('59a92d40b18b1408646d1cf5'),\n",
       "  ObjectId('59a91136b18b14085f6cc45b'),\n",
       "  ObjectId('59aa481bb18b1408616cc4c8'),\n",
       "  ObjectId('59a8755eb18b14085d6c7342'),\n",
       "  ObjectId('59a8915ab18b14085f6c91c9'),\n",
       "  ObjectId('59a86af8b18b1408616c6838'),\n",
       "  ObjectId('59a88864b18b14085e6c90ce'),\n",
       "  ObjectId('59a92d08b18b1408646d1c8f'),\n",
       "  ObjectId('59aafb1ab18b14085c6ccaf0'),\n",
       "  ObjectId('59a87003b18b14085d6c6f6e'),\n",
       "  ObjectId('59a86678b18b14085b6c609e'),\n",
       "  ObjectId('59aa7cd4b18b1408626d3a8e'),\n",
       "  ObjectId('59aa93d1b18b14085d6d0e55'),\n",
       "  ObjectId('59aa6b76b18b1408616ccd1f'),\n",
       "  ObjectId('59ab58c4b18b14085e6d1e5a'),\n",
       "  ObjectId('59ab5fffb18b14085c6d26d6'),\n",
       "  ObjectId('59aa1c11b18b14085d6cf2a4'),\n",
       "  ObjectId('59a867f1b18b14085e6c6ac7'),\n",
       "  ObjectId('59a8865db18b1408606c7d5f'),\n",
       "  ObjectId('59ab4a44b18b14085e6d1b51'),\n",
       "  ObjectId('59a9f24ab18b14085d6cebc4'),\n",
       "  ObjectId('59a88abdb18b1408606c7ebc'),\n",
       "  ObjectId('59a92cfbb18b1408646d1c79'),\n",
       "  ObjectId('59a8f467b18b1408606ca010'),\n",
       "  ObjectId('59aafb1cb18b14085c6ccaf2'),\n",
       "  ObjectId('59a88fc0b18b1408626c85bb'),\n",
       "  ObjectId('59ab3debb18b1408616d4258'),\n",
       "  ObjectId('59aa8e2cb18b14085d6d0d47'),\n",
       "  ObjectId('59aa1bbfb18b14085d6cf297'),\n",
       "  ObjectId('59a8ac63b18b14085f6cab81'),\n",
       "  ObjectId('59a866c0b18b14085e6c695f'),\n",
       "  ObjectId('59a86b06b18b1408616c685b'),\n",
       "  ObjectId('59aa3fabb18b14085e6cdc72'),\n",
       "  ObjectId('59a883feb18b14085e6c895c'),\n",
       "  ObjectId('59a953d3b18b1408606cf7e2'),\n",
       "  ObjectId('59a86f2fb18b14085d6c6ee1'),\n",
       "  ObjectId('59a99d17b18b1408606d1434'),\n",
       "  ObjectId('59a9fc2fb18b14085d6ced71'),\n",
       "  ObjectId('59aaf161b18b14085d6d50e0'),\n",
       "  ObjectId('59a9caf4b18b14085d6ce520'),\n",
       "  ObjectId('59ab4b53b18b14085c6d0ae7'),\n",
       "  ObjectId('59a9cbedb18b14085d6ce54b'),\n",
       "  ObjectId('59ac7119b18b1408636d2069'),\n",
       "  ObjectId('59a9f40eb18b14085d6cec12'),\n",
       "  ObjectId('59a8d134b18b14085f6cb189'),\n",
       "  ObjectId('59a89191b18b14085f6c91f1'),\n",
       "  ObjectId('59aa3af2b18b14085e6cd514'),\n",
       "  ObjectId('59a86b14b18b1408616c687a'),\n",
       "  ObjectId('59aa542fb18b14085e6ced48'),\n",
       "  ObjectId('59aa941cb18b14085d6d0e63'),\n",
       "  ObjectId('59ab83d3b18b1408616d5af8'),\n",
       "  ObjectId('59a9e045b18b14085f6cf98a'),\n",
       "  ObjectId('59ab860db18b1408616d5b4e'),\n",
       "  ObjectId('59a89485b18b1408626c89c5'),\n",
       "  ObjectId('59aa6f25b18b1408616ccdfc'),\n",
       "  ObjectId('59a9e323b18b14085d6ce933'),\n",
       "  ObjectId('59a9f880b18b14085d6cecd7'),\n",
       "  ObjectId('59aa9477b18b14085d6d0e74'),\n",
       "  ObjectId('59a8881db18b14085e6c9075'),\n",
       "  ObjectId('59aafb1db18b14085c6ccaf4'),\n",
       "  ObjectId('59aa5a6db18b1408626d346a'),\n",
       "  ObjectId('59a953d3b18b1408606cf7e3'),\n",
       "  ObjectId('59aa6c21b18b1408616ccd47'),\n",
       "  ObjectId('59a8ea72b18b1408646ce550'),\n",
       "  ObjectId('59a9d391b18b14085f6ce983'),\n",
       "  ObjectId('59aaabf2b18b1408626d4307'),\n",
       "  ObjectId('59aafe7fb18b14085c6cd07c'),\n",
       "  ObjectId('59a953fbb18b1408606cf80b'),\n",
       "  ObjectId('59aaa821b18b1408626d4257'),\n",
       "  ObjectId('59a9f3c9b18b14085d6cec06'),\n",
       "  ObjectId('59aa2d88b18b1408626d1b68'),\n",
       "  ObjectId('59ab2fa3b18b14085e6d15d2'),\n",
       "  ObjectId('59a8884fb18b14085e6c90b2'),\n",
       "  ObjectId('59a8685ab18b14085e6c6b43'),\n",
       "  ObjectId('59aa2fb4b18b14085f6d327c'),\n",
       "  ObjectId('59a8e7a3b18b1408646ce236'),\n",
       "  ObjectId('59aa3f65b18b14085e6cdbf6'),\n",
       "  ObjectId('59ab57b1b18b14085e6d1e21'),\n",
       "  ObjectId('59a88862b18b14085e6c90cb'),\n",
       "  ObjectId('59a959fab18b1408606cfe05'),\n",
       "  ObjectId('59ab2556b18b1408616d3a70'),\n",
       "  ObjectId('59ab3deeb18b1408616d425d'),\n",
       "  ObjectId('59ab84e2b18b1408616d5b21'),\n",
       "  ObjectId('59a8906ab18b1408626c8649'),\n",
       "  ObjectId('59a8667db18b14085e6c690f'),\n",
       "  ObjectId('59a954e0b18b1408626cbce8'),\n",
       "  ObjectId('59a9ecdfb18b14085b6d2e8a'),\n",
       "  ObjectId('59aa3f60b18b14085e6cdbed'),\n",
       "  ObjectId('59abb6d4b18b1408636cf45d'),\n",
       "  ObjectId('59a86143b18b14085b6c5e23'),\n",
       "  ObjectId('59a8701cb18b14085d6c6f7f'),\n",
       "  ObjectId('59abb368b18b1408636cefe6'),\n",
       "  ObjectId('59a89066b18b1408626c8646'),\n",
       "  ObjectId('59a9e33cb18b14085d6ce937'),\n",
       "  ObjectId('59a8684fb18b14085e6c6b35'),\n",
       "  ObjectId('59aa9276b18b14085d6d0e14'),\n",
       "  ObjectId('59aa6e28b18b1408616ccdc1'),\n",
       "  ObjectId('59aa938cb18b14085d6d0e48'),\n",
       "  ObjectId('59aaca7eb18b1408626d4887'),\n",
       "  ObjectId('59a96f0bb18b1408626ce02e'),\n",
       "  ObjectId('59a8daefb18b14085b6c8f5d'),\n",
       "  ObjectId('59a86af6b18b1408616c6834'),\n",
       "  ObjectId('59aaefb9b18b14085d6d4f4d'),\n",
       "  ObjectId('59a9f6fbb18b14085d6cec94'),\n",
       "  ObjectId('59a9f6f6b18b14085d6cec93'),\n",
       "  ObjectId('59a9f41ab18b14085d6cec14'),\n",
       "  ObjectId('59a88414b18b14085e6c8978'),\n",
       "  ObjectId('59a9f769b18b14085d6ceca7'),\n",
       "  ObjectId('59a8859db18b14085f6c8162'),\n",
       "  ObjectId('59a86853b18b14085e6c6b3b'),\n",
       "  ObjectId('59a9f37db18b14085d6cebf9'),\n",
       "  ObjectId('59a92d28b18b1408646d1cca'),\n",
       "  ObjectId('59aa86d3b18b14085d6d0be9'),\n",
       "  ObjectId('59a8a033b18b1408646c99e1'),\n",
       "  ObjectId('59a86838b18b14085e6c6b19'),\n",
       "  ObjectId('59a953feb18b1408606cf80e'),\n",
       "  ObjectId('59aafb17b18b14085c6ccaec'),\n",
       "  ObjectId('59a9381ab18b1408606ce481'),\n",
       "  ObjectId('59a985e0b18b14085b6cf507'),\n",
       "  ObjectId('59aa8420b18b14085d6d0b68'),\n",
       "  ObjectId('59a90facb18b14085f6cc279'),\n",
       "  ObjectId('59aa9447b18b14085d6d0e6b'),\n",
       "  ObjectId('59a86b23b18b1408616c689c'),\n",
       "  ObjectId('59aa3081b18b14085f6d338e'),\n",
       "  ObjectId('59ab1294b18b1408616d3516'),\n",
       "  ObjectId('59a92d0db18b1408646d1c97'),\n",
       "  ObjectId('59aafb07b18b14085c6ccad7'),\n",
       "  ObjectId('59a9fc19b18b14085d6ced6d'),\n",
       "  ObjectId('59a8886cb18b14085e6c90d7'),\n",
       "  ObjectId('59a9a67bb18b14085b6cfe5e'),\n",
       "  ObjectId('59a9f4deb18b14085d6cec36'),\n",
       "  ObjectId('59ab88f3b18b14085c6d51be'),\n",
       "  ObjectId('59a8681db18b14085e6c6af9'),\n",
       "  ObjectId('59a953d6b18b1408606cf7e6'),\n",
       "  ObjectId('59aafb2db18b14085c6ccb08'),\n",
       "  ObjectId('59ab5494b18b1408636cc400'),\n",
       "  ObjectId('59aa4661b18b14085e6ce655'),\n",
       "  ObjectId('59aadb06b18b14085e6d0781'),\n",
       "  ObjectId('59a88423b18b14085e6c898c'),\n",
       "  ObjectId('59a897eab18b14085f6c9961'),\n",
       "  ObjectId('59aa384cb18b1408616cc0f9'),\n",
       "  ObjectId('59a86b11b18b1408616c6872'),\n",
       "  ObjectId('59aaa259b18b1408626d414d'),\n",
       "  ObjectId('59ab3de4b18b1408616d424b'),\n",
       "  ObjectId('59a8665ab18b14085b6c6091'),\n",
       "  ObjectId('59a886a4b18b14085f6c82d6'),\n",
       "  ObjectId('59aa9306b18b14085d6d0e2f'),\n",
       "  ObjectId('59ab5095b18b14085e6d1ca4'),\n",
       "  ObjectId('59aa7c28b18b1408626d3a6f'),\n",
       "  ObjectId('59a864fab18b14085b6c5fed'),\n",
       "  ObjectId('59aa6984b18b1408616cccaa'),\n",
       "  ObjectId('59a9f3d4b18b14085d6cec08'),\n",
       "  ObjectId('59a8a343b18b14085f6ca6f2'),\n",
       "  ObjectId('59a897e0b18b14085f6c994e'),\n",
       "  ObjectId('59a87120b18b14085d6c702d'),\n",
       "  ObjectId('59a8650eb18b14085b6c5ff7'),\n",
       "  ObjectId('59aafb09b18b14085c6ccad9'),\n",
       "  ObjectId('59a88555b18b14085f6c80f3'),\n",
       "  ObjectId('59a953dcb18b1408606cf7ec'),\n",
       "  ObjectId('59aa8ff9b18b14085d6d0d9d'),\n",
       "  ObjectId('59a9f22db18b14085d6cebbf'),\n",
       "  ObjectId('59a875cab18b14085d6c73e1'),\n",
       "  ObjectId('59aa92e6b18b14085d6d0e29'),\n",
       "  ObjectId('59a86856b18b14085e6c6b3f'),\n",
       "  ObjectId('59a86792b18b14085e6c6a5b'),\n",
       "  ObjectId('59aafb08b18b14085c6ccad8'),\n",
       "  ObjectId('59aa2078b18b14085d6cf35b'),\n",
       "  ObjectId('59aa93a6b18b14085d6d0e4d'),\n",
       "  ObjectId('59a8842eb18b14085e6c899b'),\n",
       "  ObjectId('59ab3ea3b18b14085e6d18eb'),\n",
       "  ObjectId('59a86b38b18b1408616c68cd'),\n",
       "  ObjectId('59abb5c5b18b1408636cf2d3'),\n",
       "  ObjectId('59a873c7b18b1408626c6cb1'),\n",
       "  ObjectId('59a9f372b18b14085d6cebf7'),\n",
       "  ObjectId('59a86b1fb18b1408616c6894'),\n",
       "  ObjectId('59a885d7b18b1408606c7d35'),\n",
       "  ObjectId('59a86fa4b18b14085d6c6f2e'),\n",
       "  ObjectId('59aafb2bb18b14085c6ccb06'),\n",
       "  ObjectId('59ab84dcb18b1408616d5b20'),\n",
       "  ObjectId('59a9ab00b18b1408606d1fc8'),\n",
       "  ObjectId('59a8b07ab18b14085f6cac29'),\n",
       "  ObjectId('59aa93c1b18b14085d6d0e52'),\n",
       "  ObjectId('59a87aa7b18b1408626c73db'),\n",
       "  ObjectId('59aa3f95b18b14085e6cdc4a'),\n",
       "  ObjectId('59aa9311b18b14085d6d0e31'),\n",
       "  ObjectId('59aab7a6b18b1408626d4523'),\n",
       "  ObjectId('59aafaf8b18b14085c6ccac3'),\n",
       "  ObjectId('59a92d03b18b1408646d1c86'),\n",
       "  ObjectId('59a86b33b18b1408616c68c3'),\n",
       "  ObjectId('59a86262b18b1408626c626a'),\n",
       "  ObjectId('59aa1ba2b18b14085d6cf293'),\n",
       "  ObjectId('59a86d7fb18b14085f6c6d64'),\n",
       "  ObjectId('59a868ddb18b14085e6c6be3'),\n",
       "  ObjectId('59aa6a58b18b1408616cccdc'),\n",
       "  ObjectId('59aa9326b18b14085d6d0e35'),\n",
       "  ObjectId('59abb361b18b1408636cefde'),\n",
       "  ObjectId('59ab88d7b18b14085e6d3e17')],\n",
       " 'similar_words': [ObjectId('59aea9b5b18b14a4ed174064'),\n",
       "  ObjectId('59aea9bcb18b14a4ed174ab2'),\n",
       "  ObjectId('59aea9c6b18b14a4ed17b6d0'),\n",
       "  ObjectId('59aea9c8b18b14a4ed17cc2d'),\n",
       "  ObjectId('59aea9cbb18b14a4ed17f8d4'),\n",
       "  ObjectId('59aea9ccb18b14a4ed180899'),\n",
       "  ObjectId('59aea9ccb18b14a4ed18089a')],\n",
       " 'word': 'passives'}"
      ]
     },
     "execution_count": 7,
     "metadata": {},
     "output_type": "execute_result"
    }
   ],
   "source": [
    "keywords.find()[1]"
   ]
  },
  {
   "cell_type": "code",
   "execution_count": null,
   "metadata": {
    "collapsed": true
   },
   "outputs": [],
   "source": []
  }
 ],
 "metadata": {
  "kernelspec": {
   "display_name": "Python 3",
   "language": "python",
   "name": "python3"
  },
  "language_info": {
   "codemirror_mode": {
    "name": "ipython",
    "version": 3
   },
   "file_extension": ".py",
   "mimetype": "text/x-python",
   "name": "python",
   "nbconvert_exporter": "python",
   "pygments_lexer": "ipython3",
   "version": "3.6.1"
  }
 },
 "nbformat": 4,
 "nbformat_minor": 2
}
