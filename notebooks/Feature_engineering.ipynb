{
 "cells": [
  {
   "cell_type": "code",
   "execution_count": 1,
   "metadata": {
    "collapsed": true
   },
   "outputs": [],
   "source": [
    "import json\n",
    "from pymongo import MongoClient\n",
    "import pandas as pd\n",
    "import gensim\n",
    "from gensim.models import phrases\n",
    "from gensim.utils import lemmatize\n",
    "import en_core_web_sm\n",
    "from sklearn.feature_extraction.stop_words import ENGLISH_STOP_WORDS\n",
    "from nltk.corpus import stopwords\n",
    "from sklearn.externals import joblib\n",
    "import spacy\n",
    "import re\n",
    "import string"
   ]
  },
  {
   "cell_type": "markdown",
   "metadata": {},
   "source": [
    "# Assigning score to sentences in abstracts\n",
    "\n",
    "Assign score to sentences based on following features:\n",
    "\n",
    "* Length of sentence\n",
    "* Number of Named Entities\n",
    "* Number of top K-important words (see keyword extraction)\n",
    "* Sentence position in the doc: sentences in introductions and summaries are more likely to be relevant. The problem is that after conversion, the docs do not have much of a structure, they are basically a huge string. It should be possible to recover some structure based on number of white lines and words such as 'section', 'chapter', '1.' etc.\n",
    "* Number of Upper Case words: often special terminology or names\n",
    "* Number of nouns, verbs and adjectives (lexical semantics)  \n",
    "\n",
    "Normalization:\n",
    "\n",
    "* sentence position to %\n",
    "* other features: sigmoid function  \n",
    "\n",
    "Classification to optimize weights of the features:\n",
    "\n",
    "Train logistic regression model based on sentences in abstracts (1) and sentences in examples (0)\n",
    "Retain the optimal parameters to calculate sentence scores."
   ]
  },
  {
   "cell_type": "code",
   "execution_count": 196,
   "metadata": {
    "collapsed": true
   },
   "outputs": [],
   "source": [
    "client = MongoClient()\n",
    "db = client.lingbuzz\n",
    "papers = db.get_collection('papers')"
   ]
  },
  {
   "cell_type": "code",
   "execution_count": 3,
   "metadata": {
    "collapsed": true
   },
   "outputs": [],
   "source": [
    "abstracts = []\n",
    "for doc in papers.find({'abstract':{'$exists': True}}):\n",
    "    abstracts+=doc['abstract']"
   ]
  },
  {
   "cell_type": "code",
   "execution_count": 4,
   "metadata": {
    "collapsed": true
   },
   "outputs": [],
   "source": [
    "nlp = spacy.load('en_core_web_sm')"
   ]
  },
  {
   "cell_type": "code",
   "execution_count": 5,
   "metadata": {
    "collapsed": true
   },
   "outputs": [],
   "source": [
    "top_k_words = joblib.load('top_k_words')"
   ]
  },
  {
   "cell_type": "code",
   "execution_count": 6,
   "metadata": {
    "collapsed": true
   },
   "outputs": [],
   "source": [
    "authors = joblib.load('authors')"
   ]
  },
  {
   "cell_type": "code",
   "execution_count": 7,
   "metadata": {
    "collapsed": true
   },
   "outputs": [],
   "source": [
    "def count_k_important(sent):\n",
    "    count = 0\n",
    "    for w in sent:\n",
    "        if w.lower_ in top_k_words:\n",
    "            count+=1\n",
    "    return count\n",
    "\n",
    "def eliminate_non_english_words(s):\n",
    "    \"\"\"takes list of words and eliminates all words that contain non-english characters, digits or punctuation\"\"\"\n",
    "    english_words = []\n",
    "    for word in s:\n",
    "        if word.lower() in authors:\n",
    "            english_words.append(word)\n",
    "        else: \n",
    "            try:\n",
    "                word.encode(encoding='utf-8').decode('ascii')\n",
    "                # if re.sub('-', '', word).isalpha():\n",
    "                    # english_words.append(re.sub('[%s]' % re.escape(string.punctuation), '', word))\n",
    "                word = re.sub('[%s]' % re.escape(string.punctuation), '', word)\n",
    "                if word.isalpha():\n",
    "                    english_words.append(word) \n",
    "            except UnicodeDecodeError:\n",
    "                pass\n",
    "    return ' '.join(english_words)\n",
    "\n",
    "def calculate_named_entities(sent):\n",
    "    count = 0\n",
    "    entities = []\n",
    "    for ent in sent.ents:\n",
    "        count+=1\n",
    "        entities.append((ent.label_, ent.text))\n",
    "    return count, entities\n",
    "\n",
    "def calculate_pos(sent):\n",
    "    n = 0\n",
    "    v = 0\n",
    "    a = 0\n",
    "    for w in sent:\n",
    "        if w.pos_ == 'VERB':\n",
    "            v+=1\n",
    "        if w.pos_ == 'ADJ':\n",
    "            a += 1\n",
    "        if w.pos_ == 'NOUN':\n",
    "            n+=1\n",
    "    return n, v, a\n",
    "\n",
    "def calculate_upper(sent):\n",
    "    counter = -1\n",
    "    for w in sent:\n",
    "        if not w.is_lower:\n",
    "            counter += 1\n",
    "    return counter    "
   ]
  },
  {
   "cell_type": "code",
   "execution_count": 92,
   "metadata": {
    "collapsed": true
   },
   "outputs": [],
   "source": [
    "def calculate_features(li):\n",
    "    \"\"\"takes a list of texts and returns df with sentences and their features\"\"\"\n",
    "    all_sentences = []\n",
    "    for a in li:\n",
    "        posi = 0\n",
    "        for sent in nlp(a).sents:\n",
    "            out = [str(sent), len(list(sent))]\n",
    "            upper = calculate_upper(sent)\n",
    "            sent = nlp(eliminate_non_english_words(str(sent).split()))\n",
    "            named_entities, _ = calculate_named_entities(sent)\n",
    "            k_important = count_k_important(sent)\n",
    "            pos = 100/len(list(nlp(a).sents))*posi\n",
    "            nouns, verbs, adjectives = calculate_pos(sent)\n",
    "            out+=[named_entities, k_important, pos, upper, nouns, verbs, adjectives]\n",
    "            all_sentences.append(out)\n",
    "            posi += 1\n",
    "    features = pd.DataFrame(all_sentences, columns=['sentence', 'length', 'named_entities', 'k_important', 'position',\n",
    "                                                    'upper', 'nouns', 'verbs', 'adjectives'])\n",
    "    return features"
   ]
  },
  {
   "cell_type": "code",
   "execution_count": 93,
   "metadata": {
    "collapsed": true
   },
   "outputs": [],
   "source": [
    "features_df = calculate_features(abstracts)"
   ]
  },
  {
   "cell_type": "code",
   "execution_count": 94,
   "metadata": {},
   "outputs": [
    {
     "data": {
      "text/html": [
       "<div>\n",
       "<style>\n",
       "    .dataframe thead tr:only-child th {\n",
       "        text-align: right;\n",
       "    }\n",
       "\n",
       "    .dataframe thead th {\n",
       "        text-align: left;\n",
       "    }\n",
       "\n",
       "    .dataframe tbody tr th {\n",
       "        vertical-align: top;\n",
       "    }\n",
       "</style>\n",
       "<table border=\"1\" class=\"dataframe\">\n",
       "  <thead>\n",
       "    <tr style=\"text-align: right;\">\n",
       "      <th></th>\n",
       "      <th>sentence</th>\n",
       "      <th>length</th>\n",
       "      <th>named_entities</th>\n",
       "      <th>k_important</th>\n",
       "      <th>position</th>\n",
       "      <th>upper</th>\n",
       "      <th>nouns</th>\n",
       "      <th>verbs</th>\n",
       "      <th>adjectives</th>\n",
       "    </tr>\n",
       "  </thead>\n",
       "  <tbody>\n",
       "    <tr>\n",
       "      <th>0</th>\n",
       "      <td>The paper will argue for the existence of null...</td>\n",
       "      <td>63</td>\n",
       "      <td>4</td>\n",
       "      <td>28</td>\n",
       "      <td>0.0</td>\n",
       "      <td>14</td>\n",
       "      <td>13</td>\n",
       "      <td>9</td>\n",
       "      <td>6</td>\n",
       "    </tr>\n",
       "    <tr>\n",
       "      <th>1</th>\n",
       "      <td>I will present a set of paradoxical cases in w...</td>\n",
       "      <td>32</td>\n",
       "      <td>1</td>\n",
       "      <td>13</td>\n",
       "      <td>20.0</td>\n",
       "      <td>4</td>\n",
       "      <td>8</td>\n",
       "      <td>4</td>\n",
       "      <td>3</td>\n",
       "    </tr>\n",
       "    <tr>\n",
       "      <th>2</th>\n",
       "      <td>I will suggest that the domain of locality rel...</td>\n",
       "      <td>29</td>\n",
       "      <td>3</td>\n",
       "      <td>15</td>\n",
       "      <td>40.0</td>\n",
       "      <td>4</td>\n",
       "      <td>4</td>\n",
       "      <td>5</td>\n",
       "      <td>4</td>\n",
       "    </tr>\n",
       "    <tr>\n",
       "      <th>3</th>\n",
       "      <td>Specifically, it will be proposed that a resum...</td>\n",
       "      <td>31</td>\n",
       "      <td>3</td>\n",
       "      <td>12</td>\n",
       "      <td>60.0</td>\n",
       "      <td>13</td>\n",
       "      <td>3</td>\n",
       "      <td>6</td>\n",
       "      <td>1</td>\n",
       "    </tr>\n",
       "    <tr>\n",
       "      <th>4</th>\n",
       "      <td>The CCRC will explain why resumptive dependenc...</td>\n",
       "      <td>34</td>\n",
       "      <td>7</td>\n",
       "      <td>15</td>\n",
       "      <td>80.0</td>\n",
       "      <td>9</td>\n",
       "      <td>4</td>\n",
       "      <td>5</td>\n",
       "      <td>3</td>\n",
       "    </tr>\n",
       "  </tbody>\n",
       "</table>\n",
       "</div>"
      ],
      "text/plain": [
       "                                            sentence  length  named_entities  \\\n",
       "0  The paper will argue for the existence of null...      63               4   \n",
       "1  I will present a set of paradoxical cases in w...      32               1   \n",
       "2  I will suggest that the domain of locality rel...      29               3   \n",
       "3  Specifically, it will be proposed that a resum...      31               3   \n",
       "4  The CCRC will explain why resumptive dependenc...      34               7   \n",
       "\n",
       "   k_important  position  upper  nouns  verbs  adjectives  \n",
       "0           28       0.0     14     13      9           6  \n",
       "1           13      20.0      4      8      4           3  \n",
       "2           15      40.0      4      4      5           4  \n",
       "3           12      60.0     13      3      6           1  \n",
       "4           15      80.0      9      4      5           3  "
      ]
     },
     "execution_count": 94,
     "metadata": {},
     "output_type": "execute_result"
    }
   ],
   "source": [
    "features_df.head()"
   ]
  },
  {
   "cell_type": "code",
   "execution_count": 95,
   "metadata": {},
   "outputs": [
    {
     "data": {
      "text/plain": [
       "['abstracts_features']"
      ]
     },
     "execution_count": 95,
     "metadata": {},
     "output_type": "execute_result"
    }
   ],
   "source": [
    "joblib.dump(features_df, 'abstracts_features')"
   ]
  },
  {
   "cell_type": "code",
   "execution_count": 96,
   "metadata": {},
   "outputs": [
    {
     "data": {
      "text/plain": [
       "(19181, 9)"
      ]
     },
     "execution_count": 96,
     "metadata": {},
     "output_type": "execute_result"
    }
   ],
   "source": [
    "features_df.shape"
   ]
  },
  {
   "cell_type": "code",
   "execution_count": 97,
   "metadata": {},
   "outputs": [
    {
     "data": {
      "text/html": [
       "<div>\n",
       "<style>\n",
       "    .dataframe thead tr:only-child th {\n",
       "        text-align: right;\n",
       "    }\n",
       "\n",
       "    .dataframe thead th {\n",
       "        text-align: left;\n",
       "    }\n",
       "\n",
       "    .dataframe tbody tr th {\n",
       "        vertical-align: top;\n",
       "    }\n",
       "</style>\n",
       "<table border=\"1\" class=\"dataframe\">\n",
       "  <thead>\n",
       "    <tr style=\"text-align: right;\">\n",
       "      <th></th>\n",
       "      <th>length</th>\n",
       "      <th>named_entities</th>\n",
       "      <th>k_important</th>\n",
       "      <th>position</th>\n",
       "      <th>upper</th>\n",
       "      <th>nouns</th>\n",
       "      <th>verbs</th>\n",
       "      <th>adjectives</th>\n",
       "    </tr>\n",
       "  </thead>\n",
       "  <tbody>\n",
       "    <tr>\n",
       "      <th>count</th>\n",
       "      <td>19181.000000</td>\n",
       "      <td>19181.000000</td>\n",
       "      <td>19181.000000</td>\n",
       "      <td>19181.000000</td>\n",
       "      <td>19181.000000</td>\n",
       "      <td>19181.000000</td>\n",
       "      <td>19181.000000</td>\n",
       "      <td>19181.000000</td>\n",
       "    </tr>\n",
       "    <tr>\n",
       "      <th>mean</th>\n",
       "      <td>30.638392</td>\n",
       "      <td>1.087691</td>\n",
       "      <td>13.118398</td>\n",
       "      <td>41.640165</td>\n",
       "      <td>6.615453</td>\n",
       "      <td>6.412439</td>\n",
       "      <td>3.920963</td>\n",
       "      <td>3.274178</td>\n",
       "    </tr>\n",
       "    <tr>\n",
       "      <th>std</th>\n",
       "      <td>16.208470</td>\n",
       "      <td>1.302931</td>\n",
       "      <td>6.979667</td>\n",
       "      <td>28.872590</td>\n",
       "      <td>5.774714</td>\n",
       "      <td>3.783424</td>\n",
       "      <td>2.501618</td>\n",
       "      <td>2.454456</td>\n",
       "    </tr>\n",
       "    <tr>\n",
       "      <th>min</th>\n",
       "      <td>1.000000</td>\n",
       "      <td>0.000000</td>\n",
       "      <td>0.000000</td>\n",
       "      <td>0.000000</td>\n",
       "      <td>-1.000000</td>\n",
       "      <td>0.000000</td>\n",
       "      <td>0.000000</td>\n",
       "      <td>0.000000</td>\n",
       "    </tr>\n",
       "    <tr>\n",
       "      <th>25%</th>\n",
       "      <td>20.000000</td>\n",
       "      <td>0.000000</td>\n",
       "      <td>8.000000</td>\n",
       "      <td>16.666667</td>\n",
       "      <td>3.000000</td>\n",
       "      <td>4.000000</td>\n",
       "      <td>2.000000</td>\n",
       "      <td>2.000000</td>\n",
       "    </tr>\n",
       "    <tr>\n",
       "      <th>50%</th>\n",
       "      <td>28.000000</td>\n",
       "      <td>1.000000</td>\n",
       "      <td>12.000000</td>\n",
       "      <td>40.000000</td>\n",
       "      <td>5.000000</td>\n",
       "      <td>6.000000</td>\n",
       "      <td>4.000000</td>\n",
       "      <td>3.000000</td>\n",
       "    </tr>\n",
       "    <tr>\n",
       "      <th>75%</th>\n",
       "      <td>39.000000</td>\n",
       "      <td>2.000000</td>\n",
       "      <td>17.000000</td>\n",
       "      <td>66.666667</td>\n",
       "      <td>9.000000</td>\n",
       "      <td>8.000000</td>\n",
       "      <td>5.000000</td>\n",
       "      <td>5.000000</td>\n",
       "    </tr>\n",
       "    <tr>\n",
       "      <th>max</th>\n",
       "      <td>221.000000</td>\n",
       "      <td>14.000000</td>\n",
       "      <td>96.000000</td>\n",
       "      <td>99.137931</td>\n",
       "      <td>66.000000</td>\n",
       "      <td>47.000000</td>\n",
       "      <td>29.000000</td>\n",
       "      <td>37.000000</td>\n",
       "    </tr>\n",
       "  </tbody>\n",
       "</table>\n",
       "</div>"
      ],
      "text/plain": [
       "             length  named_entities   k_important      position         upper  \\\n",
       "count  19181.000000    19181.000000  19181.000000  19181.000000  19181.000000   \n",
       "mean      30.638392        1.087691     13.118398     41.640165      6.615453   \n",
       "std       16.208470        1.302931      6.979667     28.872590      5.774714   \n",
       "min        1.000000        0.000000      0.000000      0.000000     -1.000000   \n",
       "25%       20.000000        0.000000      8.000000     16.666667      3.000000   \n",
       "50%       28.000000        1.000000     12.000000     40.000000      5.000000   \n",
       "75%       39.000000        2.000000     17.000000     66.666667      9.000000   \n",
       "max      221.000000       14.000000     96.000000     99.137931     66.000000   \n",
       "\n",
       "              nouns         verbs    adjectives  \n",
       "count  19181.000000  19181.000000  19181.000000  \n",
       "mean       6.412439      3.920963      3.274178  \n",
       "std        3.783424      2.501618      2.454456  \n",
       "min        0.000000      0.000000      0.000000  \n",
       "25%        4.000000      2.000000      2.000000  \n",
       "50%        6.000000      4.000000      3.000000  \n",
       "75%        8.000000      5.000000      5.000000  \n",
       "max       47.000000     29.000000     37.000000  "
      ]
     },
     "execution_count": 97,
     "metadata": {},
     "output_type": "execute_result"
    }
   ],
   "source": [
    "features_df.describe()"
   ]
  },
  {
   "cell_type": "code",
   "execution_count": 14,
   "metadata": {
    "collapsed": true
   },
   "outputs": [],
   "source": [
    "import matplotlib.pyplot as plt\n",
    "%matplotlib inline"
   ]
  },
  {
   "cell_type": "code",
   "execution_count": 15,
   "metadata": {},
   "outputs": [
    {
     "data": {
      "text/plain": [
       "(array([  267.,   629.,  1485.,  2323.,  2901.,  2827.,  2381.,  1877.,\n",
       "         1363.,   945.,   696.,   473.,   295.,   234.,   148.,   105.,\n",
       "           61.,    43.,    31.,    30.]),\n",
       " array([   0.,    5.,   10.,   15.,   20.,   25.,   30.,   35.,   40.,\n",
       "          45.,   50.,   55.,   60.,   65.,   70.,   75.,   80.,   85.,\n",
       "          90.,   95.,  100.]),\n",
       " <a list of 20 Patch objects>)"
      ]
     },
     "execution_count": 15,
     "metadata": {},
     "output_type": "execute_result"
    },
    {
     "data": {
      "image/png": "[encoded data removed]",
      "text/plain": [
       "<matplotlib.figure.Figure at 0x7f4d32b69828>"
      ]
     },
     "metadata": {},
     "output_type": "display_data"
    }
   ],
   "source": [
    "plt.hist(features_df.length, range = [0, 100], bins = 20 )"
   ]
  },
  {
   "cell_type": "code",
   "execution_count": 16,
   "metadata": {},
   "outputs": [
    {
     "data": {
      "text/plain": [
       "(array([  3.08000000e+02,   5.90000000e+02,   1.04900000e+03,\n",
       "          1.79200000e+03,   2.41800000e+03,   2.59900000e+03,\n",
       "          2.58400000e+03,   2.02200000e+03,   1.59700000e+03,\n",
       "          1.26300000e+03,   9.23000000e+02,   6.15000000e+02,\n",
       "          4.27000000e+02,   2.88000000e+02,   2.15000000e+02,\n",
       "          1.51000000e+02,   9.00000000e+01,   6.30000000e+01,\n",
       "          5.60000000e+01,   4.10000000e+01,   2.20000000e+01,\n",
       "          1.50000000e+01,   1.00000000e+01,   8.00000000e+00,\n",
       "          1.10000000e+01,   3.00000000e+00,   7.00000000e+00,\n",
       "          4.00000000e+00,   6.00000000e+00,   1.00000000e+00]),\n",
       " array([  0.,   2.,   4.,   6.,   8.,  10.,  12.,  14.,  16.,  18.,  20.,\n",
       "         22.,  24.,  26.,  28.,  30.,  32.,  34.,  36.,  38.,  40.,  42.,\n",
       "         44.,  46.,  48.,  50.,  52.,  54.,  56.,  58.,  60.]),\n",
       " <a list of 30 Patch objects>)"
      ]
     },
     "execution_count": 16,
     "metadata": {},
     "output_type": "execute_result"
    },
    {
     "data": {
      "image/png": "[encoded data removed]",
      "text/plain": [
       "<matplotlib.figure.Figure at 0x7f4d3288b748>"
      ]
     },
     "metadata": {},
     "output_type": "display_data"
    }
   ],
   "source": [
    "plt.hist(features_df.k_important, range = (0, 60), bins = 30 )"
   ]
  },
  {
   "cell_type": "code",
   "execution_count": 17,
   "metadata": {},
   "outputs": [
    {
     "data": {
      "text/plain": [
       "(array([  6.83000000e+02,   2.05500000e+03,   3.26000000e+03,\n",
       "          3.49600000e+03,   3.11000000e+03,   2.38900000e+03,\n",
       "          1.61100000e+03,   1.02500000e+03,   6.06000000e+02,\n",
       "          3.80000000e+02,   2.13000000e+02,   1.17000000e+02,\n",
       "          9.10000000e+01,   5.80000000e+01,   3.20000000e+01,\n",
       "          2.00000000e+01,   1.00000000e+01,   9.00000000e+00,\n",
       "          4.00000000e+00,   3.00000000e+00,   1.00000000e+00,\n",
       "          5.00000000e+00,   2.00000000e+00,   0.00000000e+00,\n",
       "          0.00000000e+00]),\n",
       " array([  0.,   1.,   2.,   3.,   4.,   5.,   6.,   7.,   8.,   9.,  10.,\n",
       "         11.,  12.,  13.,  14.,  15.,  16.,  17.,  18.,  19.,  20.,  21.,\n",
       "         22.,  23.,  24.,  25.]),\n",
       " <a list of 25 Patch objects>)"
      ]
     },
     "execution_count": 17,
     "metadata": {},
     "output_type": "execute_result"
    },
    {
     "data": {
      "image/png": "[encoded data removed]",
      "text/plain": [
       "<matplotlib.figure.Figure at 0x7f4d327263c8>"
      ]
     },
     "metadata": {},
     "output_type": "display_data"
    }
   ],
   "source": [
    "plt.hist(features_df.verbs, range = (0, 25), bins = 25 )"
   ]
  },
  {
   "cell_type": "code",
   "execution_count": 18,
   "metadata": {},
   "outputs": [
    {
     "data": {
      "text/plain": [
       "(array([  456.,   679.,  1168.,  1763.,  2256.,  2382.,  2309.,  1980.,\n",
       "         1647.,  1222.,   901.,   697.,   493.,   339.,   238.,   188.,\n",
       "          130.,    86.,    60.,    58.,    37.,    28.,    10.,    11.,\n",
       "           14.]),\n",
       " array([  0.,   1.,   2.,   3.,   4.,   5.,   6.,   7.,   8.,   9.,  10.,\n",
       "         11.,  12.,  13.,  14.,  15.,  16.,  17.,  18.,  19.,  20.,  21.,\n",
       "         22.,  23.,  24.,  25.]),\n",
       " <a list of 25 Patch objects>)"
      ]
     },
     "execution_count": 18,
     "metadata": {},
     "output_type": "execute_result"
    },
    {
     "data": {
      "image/png": "[encoded data removed]",
      "text/plain": [
       "<matplotlib.figure.Figure at 0x7f4d3260f668>"
      ]
     },
     "metadata": {},
     "output_type": "display_data"
    }
   ],
   "source": [
    "plt.hist(features_df.nouns, range = (0, 25), bins = 25 )"
   ]
  },
  {
   "cell_type": "code",
   "execution_count": 48,
   "metadata": {},
   "outputs": [
    {
     "data": {
      "text/plain": [
       "(array([ 3241.,   295.,   942.,   670.,   884.,  1271.,  1215.,   473.,\n",
       "         1217.,   194.,  1685.,   704.,  1057.,  1121.,   622.,  1040.,\n",
       "         1240.,   858.,   401.,    51.]),\n",
       " array([  0.        ,   4.95689655,   9.9137931 ,  14.87068966,\n",
       "         19.82758621,  24.78448276,  29.74137931,  34.69827586,\n",
       "         39.65517241,  44.61206897,  49.56896552,  54.52586207,\n",
       "         59.48275862,  64.43965517,  69.39655172,  74.35344828,\n",
       "         79.31034483,  84.26724138,  89.22413793,  94.18103448,  99.13793103]),\n",
       " <a list of 20 Patch objects>)"
      ]
     },
     "execution_count": 48,
     "metadata": {},
     "output_type": "execute_result"
    },
    {
     "data": {
      "image/png": "[encoded data removed]",
      "text/plain": [
       "<matplotlib.figure.Figure at 0x7f4d26ecd9b0>"
      ]
     },
     "metadata": {},
     "output_type": "display_data"
    }
   ],
   "source": [
    "plt.hist(features_df.position, bins= 20)"
   ]
  },
  {
   "cell_type": "code",
   "execution_count": 185,
   "metadata": {},
   "outputs": [
    {
     "data": {
      "text/plain": [
       "(798, 9)"
      ]
     },
     "execution_count": 185,
     "metadata": {},
     "output_type": "execute_result"
    }
   ],
   "source": [
    "df_trash_abstract = features_df.loc[(features_df.length <=5) | ((features_df.upper  <1) | (features_df.verbs == 0))]\n",
    "\n",
    "df_trash_abstract.shape"
   ]
  },
  {
   "cell_type": "markdown",
   "metadata": {},
   "source": [
    "# Assigning score to non-relevant sentences:\n",
    "\n",
    "It's a bit harder to automatically find non-relevant sentences. In the df that was made based on the abstratcs, there is a whole lot of sentences that aren't really sentences though. These are characterised as follows:\n",
    "* no k-important words\n",
    "* no nouns, verbs or adjectives (probably because we ar not dealing with English here). No adjectives is not a problem, no verb is, all sentences have verbs.\n",
    "* very short sentences\n",
    "* -1 upper case words (they aren't real sentences)\n",
    "\n",
    "They have to be eliminated form the 'relevant sentence' class.\n",
    "\n",
    "Possibility: eliminate sentences with these properties EXCEPT if they contain k-important words or named entities. These are likley to be trash.\n",
    "\n",
    "For the irrelevant sentences: \n",
    "We could go based on the k_important words alone: if a sentence has no k_important words, it's an irrelevant one. But then in our classification model, number of k_important words will be the only necessary predictive feature, we don't want that. So we have to select irrelevant sentences that have variety in all of their features.\n",
    "\n",
    "Idea: \n",
    "* select sentences containing non-English characters (likely to be examples)"
   ]
  },
  {
   "cell_type": "code",
   "execution_count": 21,
   "metadata": {},
   "outputs": [],
   "source": [
    "# weird_sentences = []\n",
    "# for doc in papers.find({'paper_raw':{'$exists': True}}):\n",
    "#     paper = doc['paper']\n",
    "#     l_p = len(list(nlp(paper)))\n",
    "#     counter = 0\n",
    "#     for sent in nlp(paper).sents:\n",
    "#         try:\n",
    "#             str(sent).encode(encoding='utf-8').decode('ascii')\n",
    "#         except UnicodeDecodeError:\n",
    "#             try: \n",
    "#                 weird_sentences.append((str(sent), counter/l_p))\n",
    "#             except:\n",
    "#                 pass\n",
    "#         counter += 1"
   ]
  },
  {
   "cell_type": "code",
   "execution_count": 22,
   "metadata": {},
   "outputs": [],
   "source": [
    "weird_sentences2 = []\n",
    "for doc in papers.find({'paper':{'$exists': True}}):\n",
    "    paper = doc['paper']\n",
    "    l_p = len(list(nlp(paper).sents))\n",
    "    counter = 0\n",
    "    for sent in nlp(paper).sents:\n",
    "        try:\n",
    "            str(sent).encode(encoding='utf-8').decode('ascii')\n",
    "        except UnicodeDecodeError:\n",
    "            try: \n",
    "                weird_sentences2.append((str(sent), 100/l_p*counter))\n",
    "            except:\n",
    "                pass\n",
    "        counter += 1"
   ]
  },
  {
   "cell_type": "code",
   "execution_count": 23,
   "metadata": {},
   "outputs": [
    {
     "data": {
      "text/plain": [
       "248310"
      ]
     },
     "execution_count": 23,
     "metadata": {},
     "output_type": "execute_result"
    }
   ],
   "source": [
    "len(weird_sentences2)"
   ]
  },
  {
   "cell_type": "code",
   "execution_count": 24,
   "metadata": {
    "collapsed": true
   },
   "outputs": [],
   "source": [
    "d = pd.DataFrame(weird_sentences2)"
   ]
  },
  {
   "cell_type": "code",
   "execution_count": 25,
   "metadata": {},
   "outputs": [
    {
     "data": {
      "text/html": [
       "<div>\n",
       "<style>\n",
       "    .dataframe thead tr:only-child th {\n",
       "        text-align: right;\n",
       "    }\n",
       "\n",
       "    .dataframe thead th {\n",
       "        text-align: left;\n",
       "    }\n",
       "\n",
       "    .dataframe tbody tr th {\n",
       "        vertical-align: top;\n",
       "    }\n",
       "</style>\n",
       "<table border=\"1\" class=\"dataframe\">\n",
       "  <thead>\n",
       "    <tr style=\"text-align: right;\">\n",
       "      <th></th>\n",
       "      <th>0</th>\n",
       "      <th>1</th>\n",
       "    </tr>\n",
       "  </thead>\n",
       "  <tbody>\n",
       "    <tr>\n",
       "      <th>0</th>\n",
       "      <td>ANALYTIC PASSIVES IN CZECH    Ludmila Veselovs...</td>\n",
       "      <td>0.000000</td>\n",
       "    </tr>\n",
       "    <tr>\n",
       "      <th>1</th>\n",
       "      <td>(1)   (b)      Pavel je chválen Petrem  Paul  ...</td>\n",
       "      <td>0.216763</td>\n",
       "    </tr>\n",
       "    <tr>\n",
       "      <th>2</th>\n",
       "      <td>(2)   (a)  Morphology:    (i)   (ii)  (iii)   ...</td>\n",
       "      <td>0.505780</td>\n",
       "    </tr>\n",
       "    <tr>\n",
       "      <th>3</th>\n",
       "      <td>A related functional generative linguists (Enc...</td>\n",
       "      <td>0.794798</td>\n",
       "    </tr>\n",
       "    <tr>\n",
       "      <th>4</th>\n",
       "      <td>On the other hand, the  proponents  of the mul...</td>\n",
       "      <td>0.867052</td>\n",
       "    </tr>\n",
       "  </tbody>\n",
       "</table>\n",
       "</div>"
      ],
      "text/plain": [
       "                                                   0         1\n",
       "0  ANALYTIC PASSIVES IN CZECH    Ludmila Veselovs...  0.000000\n",
       "1  (1)   (b)      Pavel je chválen Petrem  Paul  ...  0.216763\n",
       "2  (2)   (a)  Morphology:    (i)   (ii)  (iii)   ...  0.505780\n",
       "3  A related functional generative linguists (Enc...  0.794798\n",
       "4  On the other hand, the  proponents  of the mul...  0.867052"
      ]
     },
     "execution_count": 25,
     "metadata": {},
     "output_type": "execute_result"
    }
   ],
   "source": [
    "d.head()"
   ]
  },
  {
   "cell_type": "code",
   "execution_count": 26,
   "metadata": {},
   "outputs": [
    {
     "data": {
      "text/plain": [
       "['weird_sentences']"
      ]
     },
     "execution_count": 26,
     "metadata": {},
     "output_type": "execute_result"
    }
   ],
   "source": [
    "joblib.dump(d, 'weird_sentences')"
   ]
  },
  {
   "cell_type": "code",
   "execution_count": 27,
   "metadata": {},
   "outputs": [
    {
     "data": {
      "text/plain": [
       "['weird_sentences_list']"
      ]
     },
     "execution_count": 27,
     "metadata": {},
     "output_type": "execute_result"
    }
   ],
   "source": [
    "joblib.dump(weird_sentences2, 'weird_sentences_list')"
   ]
  },
  {
   "cell_type": "code",
   "execution_count": 28,
   "metadata": {},
   "outputs": [
    {
     "name": "stdout",
     "output_type": "stream",
     "text": [
      "<class 'str'> 0.0\n",
      "<class 'str'> 0.21676300578034685\n",
      "<class 'str'> 0.5057803468208093\n"
     ]
    }
   ],
   "source": [
    "for sent, pos in weird_sentences2[:3]:\n",
    "    print(type(sent), pos)"
   ]
  },
  {
   "cell_type": "code",
   "execution_count": 154,
   "metadata": {},
   "outputs": [],
   "source": [
    "all_weird_sentences = []\n",
    "for sent, pos in weird_sentences2:\n",
    "    out = [sent, len(list(nlp(sent)))]\n",
    "    upper = calculate_upper(nlp(sent))\n",
    "    sent = nlp(eliminate_non_english_words(sent.split()))\n",
    "    named_entities, _ = calculate_named_entities(sent)\n",
    "    k_important = count_k_important(sent)\n",
    "    nouns, verbs, adjectives = calculate_pos(sent)\n",
    "    out+=[named_entities, k_important, pos, upper, nouns, verbs, adjectives]\n",
    "    all_weird_sentences.append(out)"
   ]
  },
  {
   "cell_type": "code",
   "execution_count": 155,
   "metadata": {},
   "outputs": [],
   "source": [
    "weird_df = pd.DataFrame(all_weird_sentences, columns=['sentence', 'length', 'named_entities', 'k_important', 'position', \n",
    "                                                'upper', 'nouns', 'verbs', 'adjectives'])"
   ]
  },
  {
   "cell_type": "code",
   "execution_count": 156,
   "metadata": {},
   "outputs": [
    {
     "data": {
      "text/html": [
       "<div>\n",
       "<style>\n",
       "    .dataframe thead tr:only-child th {\n",
       "        text-align: right;\n",
       "    }\n",
       "\n",
       "    .dataframe thead th {\n",
       "        text-align: left;\n",
       "    }\n",
       "\n",
       "    .dataframe tbody tr th {\n",
       "        vertical-align: top;\n",
       "    }\n",
       "</style>\n",
       "<table border=\"1\" class=\"dataframe\">\n",
       "  <thead>\n",
       "    <tr style=\"text-align: right;\">\n",
       "      <th></th>\n",
       "      <th>sentence</th>\n",
       "      <th>length</th>\n",
       "      <th>named_entities</th>\n",
       "      <th>k_important</th>\n",
       "      <th>position</th>\n",
       "      <th>upper</th>\n",
       "      <th>nouns</th>\n",
       "      <th>verbs</th>\n",
       "      <th>adjectives</th>\n",
       "    </tr>\n",
       "  </thead>\n",
       "  <tbody>\n",
       "    <tr>\n",
       "      <th>0</th>\n",
       "      <td>ANALYTIC PASSIVES IN CZECH    Ludmila Veselovs...</td>\n",
       "      <td>39</td>\n",
       "      <td>1</td>\n",
       "      <td>18</td>\n",
       "      <td>0.000000</td>\n",
       "      <td>21</td>\n",
       "      <td>6</td>\n",
       "      <td>4</td>\n",
       "      <td>3</td>\n",
       "    </tr>\n",
       "    <tr>\n",
       "      <th>1</th>\n",
       "      <td>(1)   (b)      Pavel je chválen Petrem  Paul  ...</td>\n",
       "      <td>69</td>\n",
       "      <td>4</td>\n",
       "      <td>17</td>\n",
       "      <td>0.216763</td>\n",
       "      <td>34</td>\n",
       "      <td>5</td>\n",
       "      <td>8</td>\n",
       "      <td>3</td>\n",
       "    </tr>\n",
       "    <tr>\n",
       "      <th>2</th>\n",
       "      <td>(2)   (a)  Morphology:    (i)   (ii)  (iii)   ...</td>\n",
       "      <td>170</td>\n",
       "      <td>5</td>\n",
       "      <td>35</td>\n",
       "      <td>0.505780</td>\n",
       "      <td>79</td>\n",
       "      <td>17</td>\n",
       "      <td>13</td>\n",
       "      <td>16</td>\n",
       "    </tr>\n",
       "    <tr>\n",
       "      <th>3</th>\n",
       "      <td>A related functional generative linguists (Enc...</td>\n",
       "      <td>57</td>\n",
       "      <td>2</td>\n",
       "      <td>16</td>\n",
       "      <td>0.794798</td>\n",
       "      <td>22</td>\n",
       "      <td>11</td>\n",
       "      <td>2</td>\n",
       "      <td>6</td>\n",
       "    </tr>\n",
       "    <tr>\n",
       "      <th>4</th>\n",
       "      <td>On the other hand, the  proponents  of the mul...</td>\n",
       "      <td>70</td>\n",
       "      <td>2</td>\n",
       "      <td>23</td>\n",
       "      <td>0.867052</td>\n",
       "      <td>23</td>\n",
       "      <td>13</td>\n",
       "      <td>6</td>\n",
       "      <td>9</td>\n",
       "    </tr>\n",
       "  </tbody>\n",
       "</table>\n",
       "</div>"
      ],
      "text/plain": [
       "                                            sentence  length  named_entities  \\\n",
       "0  ANALYTIC PASSIVES IN CZECH    Ludmila Veselovs...      39               1   \n",
       "1  (1)   (b)      Pavel je chválen Petrem  Paul  ...      69               4   \n",
       "2  (2)   (a)  Morphology:    (i)   (ii)  (iii)   ...     170               5   \n",
       "3  A related functional generative linguists (Enc...      57               2   \n",
       "4  On the other hand, the  proponents  of the mul...      70               2   \n",
       "\n",
       "   k_important  position  upper  nouns  verbs  adjectives  \n",
       "0           18  0.000000     21      6      4           3  \n",
       "1           17  0.216763     34      5      8           3  \n",
       "2           35  0.505780     79     17     13          16  \n",
       "3           16  0.794798     22     11      2           6  \n",
       "4           23  0.867052     23     13      6           9  "
      ]
     },
     "execution_count": 156,
     "metadata": {},
     "output_type": "execute_result"
    }
   ],
   "source": [
    "# select about 20 000 sentences for the irrelevant category\n",
    "weird_df.head()"
   ]
  },
  {
   "cell_type": "code",
   "execution_count": 157,
   "metadata": {},
   "outputs": [
    {
     "data": {
      "text/plain": [
       "['weird_df']"
      ]
     },
     "execution_count": 157,
     "metadata": {},
     "output_type": "execute_result"
    }
   ],
   "source": [
    "joblib.dump(weird_df, 'weird_df')"
   ]
  },
  {
   "cell_type": "code",
   "execution_count": 158,
   "metadata": {},
   "outputs": [
    {
     "data": {
      "text/html": [
       "<div>\n",
       "<style>\n",
       "    .dataframe thead tr:only-child th {\n",
       "        text-align: right;\n",
       "    }\n",
       "\n",
       "    .dataframe thead th {\n",
       "        text-align: left;\n",
       "    }\n",
       "\n",
       "    .dataframe tbody tr th {\n",
       "        vertical-align: top;\n",
       "    }\n",
       "</style>\n",
       "<table border=\"1\" class=\"dataframe\">\n",
       "  <thead>\n",
       "    <tr style=\"text-align: right;\">\n",
       "      <th></th>\n",
       "      <th>length</th>\n",
       "      <th>named_entities</th>\n",
       "      <th>k_important</th>\n",
       "      <th>position</th>\n",
       "      <th>upper</th>\n",
       "      <th>nouns</th>\n",
       "      <th>verbs</th>\n",
       "      <th>adjectives</th>\n",
       "    </tr>\n",
       "  </thead>\n",
       "  <tbody>\n",
       "    <tr>\n",
       "      <th>count</th>\n",
       "      <td>248310.000000</td>\n",
       "      <td>248310.000000</td>\n",
       "      <td>248310.000000</td>\n",
       "      <td>248310.000000</td>\n",
       "      <td>248310.000000</td>\n",
       "      <td>248310.000000</td>\n",
       "      <td>248310.000000</td>\n",
       "      <td>248310.000000</td>\n",
       "    </tr>\n",
       "    <tr>\n",
       "      <th>mean</th>\n",
       "      <td>36.573247</td>\n",
       "      <td>1.117442</td>\n",
       "      <td>8.949966</td>\n",
       "      <td>46.774805</td>\n",
       "      <td>16.451472</td>\n",
       "      <td>4.887411</td>\n",
       "      <td>3.043941</td>\n",
       "      <td>1.884330</td>\n",
       "    </tr>\n",
       "    <tr>\n",
       "      <th>std</th>\n",
       "      <td>59.846245</td>\n",
       "      <td>1.641570</td>\n",
       "      <td>8.910641</td>\n",
       "      <td>26.877643</td>\n",
       "      <td>47.917929</td>\n",
       "      <td>5.425601</td>\n",
       "      <td>3.404920</td>\n",
       "      <td>2.419124</td>\n",
       "    </tr>\n",
       "    <tr>\n",
       "      <th>min</th>\n",
       "      <td>1.000000</td>\n",
       "      <td>0.000000</td>\n",
       "      <td>0.000000</td>\n",
       "      <td>0.000000</td>\n",
       "      <td>-1.000000</td>\n",
       "      <td>0.000000</td>\n",
       "      <td>0.000000</td>\n",
       "      <td>0.000000</td>\n",
       "    </tr>\n",
       "    <tr>\n",
       "      <th>25%</th>\n",
       "      <td>14.000000</td>\n",
       "      <td>0.000000</td>\n",
       "      <td>3.000000</td>\n",
       "      <td>24.441378</td>\n",
       "      <td>5.000000</td>\n",
       "      <td>1.000000</td>\n",
       "      <td>0.000000</td>\n",
       "      <td>0.000000</td>\n",
       "    </tr>\n",
       "    <tr>\n",
       "      <th>50%</th>\n",
       "      <td>28.000000</td>\n",
       "      <td>1.000000</td>\n",
       "      <td>7.000000</td>\n",
       "      <td>45.521136</td>\n",
       "      <td>10.000000</td>\n",
       "      <td>4.000000</td>\n",
       "      <td>2.000000</td>\n",
       "      <td>1.000000</td>\n",
       "    </tr>\n",
       "    <tr>\n",
       "      <th>75%</th>\n",
       "      <td>48.000000</td>\n",
       "      <td>2.000000</td>\n",
       "      <td>13.000000</td>\n",
       "      <td>67.996897</td>\n",
       "      <td>20.000000</td>\n",
       "      <td>7.000000</td>\n",
       "      <td>5.000000</td>\n",
       "      <td>3.000000</td>\n",
       "    </tr>\n",
       "    <tr>\n",
       "      <th>max</th>\n",
       "      <td>17752.000000</td>\n",
       "      <td>76.000000</td>\n",
       "      <td>453.000000</td>\n",
       "      <td>100.106213</td>\n",
       "      <td>17630.000000</td>\n",
       "      <td>415.000000</td>\n",
       "      <td>112.000000</td>\n",
       "      <td>106.000000</td>\n",
       "    </tr>\n",
       "  </tbody>\n",
       "</table>\n",
       "</div>"
      ],
      "text/plain": [
       "              length  named_entities    k_important       position  \\\n",
       "count  248310.000000   248310.000000  248310.000000  248310.000000   \n",
       "mean       36.573247        1.117442       8.949966      46.774805   \n",
       "std        59.846245        1.641570       8.910641      26.877643   \n",
       "min         1.000000        0.000000       0.000000       0.000000   \n",
       "25%        14.000000        0.000000       3.000000      24.441378   \n",
       "50%        28.000000        1.000000       7.000000      45.521136   \n",
       "75%        48.000000        2.000000      13.000000      67.996897   \n",
       "max     17752.000000       76.000000     453.000000     100.106213   \n",
       "\n",
       "               upper          nouns          verbs     adjectives  \n",
       "count  248310.000000  248310.000000  248310.000000  248310.000000  \n",
       "mean       16.451472       4.887411       3.043941       1.884330  \n",
       "std        47.917929       5.425601       3.404920       2.419124  \n",
       "min        -1.000000       0.000000       0.000000       0.000000  \n",
       "25%         5.000000       1.000000       0.000000       0.000000  \n",
       "50%        10.000000       4.000000       2.000000       1.000000  \n",
       "75%        20.000000       7.000000       5.000000       3.000000  \n",
       "max     17630.000000     415.000000     112.000000     106.000000  "
      ]
     },
     "execution_count": 158,
     "metadata": {},
     "output_type": "execute_result"
    }
   ],
   "source": [
    "weird_df.describe()"
   ]
  },
  {
   "cell_type": "code",
   "execution_count": 118,
   "metadata": {},
   "outputs": [
    {
     "data": {
      "text/html": [
       "<div>\n",
       "<style>\n",
       "    .dataframe thead tr:only-child th {\n",
       "        text-align: right;\n",
       "    }\n",
       "\n",
       "    .dataframe thead th {\n",
       "        text-align: left;\n",
       "    }\n",
       "\n",
       "    .dataframe tbody tr th {\n",
       "        vertical-align: top;\n",
       "    }\n",
       "</style>\n",
       "<table border=\"1\" class=\"dataframe\">\n",
       "  <thead>\n",
       "    <tr style=\"text-align: right;\">\n",
       "      <th></th>\n",
       "      <th>sentence</th>\n",
       "      <th>length</th>\n",
       "      <th>named_entities</th>\n",
       "      <th>k_important</th>\n",
       "      <th>position</th>\n",
       "      <th>upper</th>\n",
       "      <th>nouns</th>\n",
       "      <th>verbs</th>\n",
       "      <th>adjectives</th>\n",
       "    </tr>\n",
       "  </thead>\n",
       "  <tbody>\n",
       "    <tr>\n",
       "      <th>143395</th>\n",
       "      <td> ...</td>\n",
       "      <td>12477</td>\n",
       "      <td>3</td>\n",
       "      <td>11</td>\n",
       "      <td>33.333333</td>\n",
       "      <td>17630</td>\n",
       "      <td>2</td>\n",
       "      <td>0</td>\n",
       "      <td>2</td>\n",
       "    </tr>\n",
       "  </tbody>\n",
       "</table>\n",
       "</div>"
      ],
      "text/plain": [
       "                                                 sentence  length  \\\n",
       "143395   ...   12477   \n",
       "\n",
       "        named_entities  k_important   position  upper  nouns  verbs  \\\n",
       "143395               3           11  33.333333  17630      2      0   \n",
       "\n",
       "        adjectives  \n",
       "143395           2  "
      ]
     },
     "execution_count": 118,
     "metadata": {},
     "output_type": "execute_result"
    }
   ],
   "source": [
    "weird_df[weird_df.length == 12477.000000]"
   ]
  },
  {
   "cell_type": "code",
   "execution_count": 119,
   "metadata": {},
   "outputs": [
    {
     "data": {
      "text/html": [
       "<div>\n",
       "<style>\n",
       "    .dataframe thead tr:only-child th {\n",
       "        text-align: right;\n",
       "    }\n",
       "\n",
       "    .dataframe thead th {\n",
       "        text-align: left;\n",
       "    }\n",
       "\n",
       "    .dataframe tbody tr th {\n",
       "        vertical-align: top;\n",
       "    }\n",
       "</style>\n",
       "<table border=\"1\" class=\"dataframe\">\n",
       "  <thead>\n",
       "    <tr style=\"text-align: right;\">\n",
       "      <th></th>\n",
       "      <th>length</th>\n",
       "      <th>named_entities</th>\n",
       "      <th>k_important</th>\n",
       "      <th>position</th>\n",
       "      <th>upper</th>\n",
       "      <th>nouns</th>\n",
       "      <th>verbs</th>\n",
       "      <th>adjectives</th>\n",
       "    </tr>\n",
       "  </thead>\n",
       "  <tbody>\n",
       "    <tr>\n",
       "      <th>count</th>\n",
       "      <td>19181.000000</td>\n",
       "      <td>19181.000000</td>\n",
       "      <td>19181.000000</td>\n",
       "      <td>19181.000000</td>\n",
       "      <td>19181.000000</td>\n",
       "      <td>19181.000000</td>\n",
       "      <td>19181.000000</td>\n",
       "      <td>19181.000000</td>\n",
       "    </tr>\n",
       "    <tr>\n",
       "      <th>mean</th>\n",
       "      <td>30.638392</td>\n",
       "      <td>1.087691</td>\n",
       "      <td>13.118398</td>\n",
       "      <td>41.640165</td>\n",
       "      <td>6.615453</td>\n",
       "      <td>6.412439</td>\n",
       "      <td>3.920963</td>\n",
       "      <td>3.274178</td>\n",
       "    </tr>\n",
       "    <tr>\n",
       "      <th>std</th>\n",
       "      <td>16.208470</td>\n",
       "      <td>1.302931</td>\n",
       "      <td>6.979667</td>\n",
       "      <td>28.872590</td>\n",
       "      <td>5.774714</td>\n",
       "      <td>3.783424</td>\n",
       "      <td>2.501618</td>\n",
       "      <td>2.454456</td>\n",
       "    </tr>\n",
       "    <tr>\n",
       "      <th>min</th>\n",
       "      <td>1.000000</td>\n",
       "      <td>0.000000</td>\n",
       "      <td>0.000000</td>\n",
       "      <td>0.000000</td>\n",
       "      <td>-1.000000</td>\n",
       "      <td>0.000000</td>\n",
       "      <td>0.000000</td>\n",
       "      <td>0.000000</td>\n",
       "    </tr>\n",
       "    <tr>\n",
       "      <th>25%</th>\n",
       "      <td>20.000000</td>\n",
       "      <td>0.000000</td>\n",
       "      <td>8.000000</td>\n",
       "      <td>16.666667</td>\n",
       "      <td>3.000000</td>\n",
       "      <td>4.000000</td>\n",
       "      <td>2.000000</td>\n",
       "      <td>2.000000</td>\n",
       "    </tr>\n",
       "    <tr>\n",
       "      <th>50%</th>\n",
       "      <td>28.000000</td>\n",
       "      <td>1.000000</td>\n",
       "      <td>12.000000</td>\n",
       "      <td>40.000000</td>\n",
       "      <td>5.000000</td>\n",
       "      <td>6.000000</td>\n",
       "      <td>4.000000</td>\n",
       "      <td>3.000000</td>\n",
       "    </tr>\n",
       "    <tr>\n",
       "      <th>75%</th>\n",
       "      <td>39.000000</td>\n",
       "      <td>2.000000</td>\n",
       "      <td>17.000000</td>\n",
       "      <td>66.666667</td>\n",
       "      <td>9.000000</td>\n",
       "      <td>8.000000</td>\n",
       "      <td>5.000000</td>\n",
       "      <td>5.000000</td>\n",
       "    </tr>\n",
       "    <tr>\n",
       "      <th>max</th>\n",
       "      <td>221.000000</td>\n",
       "      <td>14.000000</td>\n",
       "      <td>96.000000</td>\n",
       "      <td>99.137931</td>\n",
       "      <td>66.000000</td>\n",
       "      <td>47.000000</td>\n",
       "      <td>29.000000</td>\n",
       "      <td>37.000000</td>\n",
       "    </tr>\n",
       "  </tbody>\n",
       "</table>\n",
       "</div>"
      ],
      "text/plain": [
       "             length  named_entities   k_important      position         upper  \\\n",
       "count  19181.000000    19181.000000  19181.000000  19181.000000  19181.000000   \n",
       "mean      30.638392        1.087691     13.118398     41.640165      6.615453   \n",
       "std       16.208470        1.302931      6.979667     28.872590      5.774714   \n",
       "min        1.000000        0.000000      0.000000      0.000000     -1.000000   \n",
       "25%       20.000000        0.000000      8.000000     16.666667      3.000000   \n",
       "50%       28.000000        1.000000     12.000000     40.000000      5.000000   \n",
       "75%       39.000000        2.000000     17.000000     66.666667      9.000000   \n",
       "max      221.000000       14.000000     96.000000     99.137931     66.000000   \n",
       "\n",
       "              nouns         verbs    adjectives  \n",
       "count  19181.000000  19181.000000  19181.000000  \n",
       "mean       6.412439      3.920963      3.274178  \n",
       "std        3.783424      2.501618      2.454456  \n",
       "min        0.000000      0.000000      0.000000  \n",
       "25%        4.000000      2.000000      2.000000  \n",
       "50%        6.000000      4.000000      3.000000  \n",
       "75%        8.000000      5.000000      5.000000  \n",
       "max       47.000000     29.000000     37.000000  "
      ]
     },
     "execution_count": 119,
     "metadata": {},
     "output_type": "execute_result"
    }
   ],
   "source": [
    "features_df.describe()"
   ]
  },
  {
   "cell_type": "code",
   "execution_count": 120,
   "metadata": {},
   "outputs": [
    {
     "data": {
      "text/plain": [
       "4173    I provide a substantial and systematic descrip...\n",
       "Name: sentence, dtype: object"
      ]
     },
     "execution_count": 120,
     "metadata": {},
     "output_type": "execute_result"
    }
   ],
   "source": [
    "features_df[features_df.length == 221]['sentence']"
   ]
  },
  {
   "cell_type": "code",
   "execution_count": 177,
   "metadata": {},
   "outputs": [],
   "source": [
    "df_trash_weird = weird_df.loc[(weird_df.length <=5) | ((weird_df.upper  <1) | (weird_df.verbs == 0))]"
   ]
  },
  {
   "cell_type": "code",
   "execution_count": 178,
   "metadata": {},
   "outputs": [
    {
     "data": {
      "text/plain": [
       "(69060, 9)"
      ]
     },
     "execution_count": 178,
     "metadata": {},
     "output_type": "execute_result"
    }
   ],
   "source": [
    "df_trash_weird.shape"
   ]
  },
  {
   "cell_type": "code",
   "execution_count": 179,
   "metadata": {},
   "outputs": [
    {
     "data": {
      "text/html": [
       "<div>\n",
       "<style>\n",
       "    .dataframe thead tr:only-child th {\n",
       "        text-align: right;\n",
       "    }\n",
       "\n",
       "    .dataframe thead th {\n",
       "        text-align: left;\n",
       "    }\n",
       "\n",
       "    .dataframe tbody tr th {\n",
       "        vertical-align: top;\n",
       "    }\n",
       "</style>\n",
       "<table border=\"1\" class=\"dataframe\">\n",
       "  <thead>\n",
       "    <tr style=\"text-align: right;\">\n",
       "      <th></th>\n",
       "      <th>sentence</th>\n",
       "      <th>length</th>\n",
       "      <th>named_entities</th>\n",
       "      <th>k_important</th>\n",
       "      <th>position</th>\n",
       "      <th>upper</th>\n",
       "      <th>nouns</th>\n",
       "      <th>verbs</th>\n",
       "      <th>adjectives</th>\n",
       "    </tr>\n",
       "  </thead>\n",
       "  <tbody>\n",
       "    <tr>\n",
       "      <th>84</th>\n",
       "      <td>You AUX2S praised  ‘</td>\n",
       "      <td>5</td>\n",
       "      <td>0</td>\n",
       "      <td>0</td>\n",
       "      <td>11.632948</td>\n",
       "      <td>3</td>\n",
       "      <td>0</td>\n",
       "      <td>1</td>\n",
       "      <td>0</td>\n",
       "    </tr>\n",
       "    <tr>\n",
       "      <th>86</th>\n",
       "      <td>He AUX3S praised  ‘</td>\n",
       "      <td>5</td>\n",
       "      <td>0</td>\n",
       "      <td>0</td>\n",
       "      <td>11.777457</td>\n",
       "      <td>3</td>\n",
       "      <td>0</td>\n",
       "      <td>1</td>\n",
       "      <td>0</td>\n",
       "    </tr>\n",
       "    <tr>\n",
       "      <th>90</th>\n",
       "      <td>You AUX2S praised  ‘</td>\n",
       "      <td>5</td>\n",
       "      <td>0</td>\n",
       "      <td>0</td>\n",
       "      <td>12.066474</td>\n",
       "      <td>3</td>\n",
       "      <td>0</td>\n",
       "      <td>1</td>\n",
       "      <td>0</td>\n",
       "    </tr>\n",
       "    <tr>\n",
       "      <th>92</th>\n",
       "      <td>he AUX3S praised  ‘</td>\n",
       "      <td>5</td>\n",
       "      <td>0</td>\n",
       "      <td>0</td>\n",
       "      <td>12.210983</td>\n",
       "      <td>2</td>\n",
       "      <td>0</td>\n",
       "      <td>1</td>\n",
       "      <td>0</td>\n",
       "    </tr>\n",
       "    <tr>\n",
       "      <th>100</th>\n",
       "      <td>‘</td>\n",
       "      <td>1</td>\n",
       "      <td>0</td>\n",
       "      <td>0</td>\n",
       "      <td>12.789017</td>\n",
       "      <td>0</td>\n",
       "      <td>0</td>\n",
       "      <td>0</td>\n",
       "      <td>0</td>\n",
       "    </tr>\n",
       "    <tr>\n",
       "      <th>102</th>\n",
       "      <td>home  ‘</td>\n",
       "      <td>3</td>\n",
       "      <td>0</td>\n",
       "      <td>1</td>\n",
       "      <td>13.005780</td>\n",
       "      <td>1</td>\n",
       "      <td>1</td>\n",
       "      <td>0</td>\n",
       "      <td>0</td>\n",
       "    </tr>\n",
       "    <tr>\n",
       "      <th>108</th>\n",
       "      <td>(b’)  (Musel) být      chválen/-zlý/-studentem...</td>\n",
       "      <td>13</td>\n",
       "      <td>0</td>\n",
       "      <td>0</td>\n",
       "      <td>13.656069</td>\n",
       "      <td>9</td>\n",
       "      <td>0</td>\n",
       "      <td>0</td>\n",
       "      <td>0</td>\n",
       "    </tr>\n",
       "    <tr>\n",
       "      <th>110</th>\n",
       "      <td>(c’)  Já budu      chválen/-zlý/-studentem/-do...</td>\n",
       "      <td>11</td>\n",
       "      <td>0</td>\n",
       "      <td>0</td>\n",
       "      <td>13.945087</td>\n",
       "      <td>7</td>\n",
       "      <td>1</td>\n",
       "      <td>0</td>\n",
       "      <td>0</td>\n",
       "    </tr>\n",
       "    <tr>\n",
       "      <th>112</th>\n",
       "      <td>home.’</td>\n",
       "      <td>2</td>\n",
       "      <td>0</td>\n",
       "      <td>0</td>\n",
       "      <td>14.234104</td>\n",
       "      <td>0</td>\n",
       "      <td>0</td>\n",
       "      <td>0</td>\n",
       "      <td>0</td>\n",
       "    </tr>\n",
       "    <tr>\n",
       "      <th>120</th>\n",
       "      <td>/ *Ano, chválen.</td>\n",
       "      <td>7</td>\n",
       "      <td>0</td>\n",
       "      <td>0</td>\n",
       "      <td>15.679191</td>\n",
       "      <td>5</td>\n",
       "      <td>0</td>\n",
       "      <td>0</td>\n",
       "      <td>0</td>\n",
       "    </tr>\n",
       "  </tbody>\n",
       "</table>\n",
       "</div>"
      ],
      "text/plain": [
       "                                              sentence  length  \\\n",
       "84                                You AUX2S praised  ‘       5   \n",
       "86                                 He AUX3S praised  ‘       5   \n",
       "90                                You AUX2S praised  ‘       5   \n",
       "92                                 he AUX3S praised  ‘       5   \n",
       "100                                                  ‘       1   \n",
       "102                                            home  ‘       3   \n",
       "108  (b’)  (Musel) být      chválen/-zlý/-studentem...      13   \n",
       "110  (c’)  Já budu      chválen/-zlý/-studentem/-do...      11   \n",
       "112                                          home.’          2   \n",
       "120                              / *Ano, chválen.            7   \n",
       "\n",
       "     named_entities  k_important   position  upper  nouns  verbs  adjectives  \n",
       "84                0            0  11.632948      3      0      1           0  \n",
       "86                0            0  11.777457      3      0      1           0  \n",
       "90                0            0  12.066474      3      0      1           0  \n",
       "92                0            0  12.210983      2      0      1           0  \n",
       "100               0            0  12.789017      0      0      0           0  \n",
       "102               0            1  13.005780      1      1      0           0  \n",
       "108               0            0  13.656069      9      0      0           0  \n",
       "110               0            0  13.945087      7      1      0           0  \n",
       "112               0            0  14.234104      0      0      0           0  \n",
       "120               0            0  15.679191      5      0      0           0  "
      ]
     },
     "execution_count": 179,
     "metadata": {},
     "output_type": "execute_result"
    }
   ],
   "source": [
    "df_trash_weird[10:20]"
   ]
  },
  {
   "cell_type": "code",
   "execution_count": 38,
   "metadata": {},
   "outputs": [
    {
     "data": {
      "text/plain": [
       "(array([ 30115.,  37262.,  31765.,  28981.,  25781.,  21950.,  17457.,\n",
       "         13547.,   9989.,   7319.,   5701.,   4262.,   3022.,   2348.,\n",
       "          1766.,   1417.,   1152.,    831.,    680.,    657.]),\n",
       " array([   0.,    5.,   10.,   15.,   20.,   25.,   30.,   35.,   40.,\n",
       "          45.,   50.,   55.,   60.,   65.,   70.,   75.,   80.,   85.,\n",
       "          90.,   95.,  100.]),\n",
       " <a list of 20 Patch objects>)"
      ]
     },
     "execution_count": 38,
     "metadata": {},
     "output_type": "execute_result"
    },
    {
     "data": {
      "image/png": "[encoded data removed]",
      "text/plain": [
       "<matplotlib.figure.Figure at 0x7f4d2740c710>"
      ]
     },
     "metadata": {},
     "output_type": "display_data"
    }
   ],
   "source": [
    "plt.hist(weird_df.length, range = [0, 100], bins = 20 )"
   ]
  },
  {
   "cell_type": "code",
   "execution_count": 39,
   "metadata": {},
   "outputs": [
    {
     "data": {
      "text/plain": [
       "(array([ 59319.,  47065.,  38658.,  31605.,  23418.,  16055.,  10378.,\n",
       "          7029.,   4597.,   3044.,   1978.,   1357.,   1018.,    739.,\n",
       "           514.,    338.,    267.,    198.,    142.,    150.]),\n",
       " array([  0.,   3.,   6.,   9.,  12.,  15.,  18.,  21.,  24.,  27.,  30.,\n",
       "         33.,  36.,  39.,  42.,  45.,  48.,  51.,  54.,  57.,  60.]),\n",
       " <a list of 20 Patch objects>)"
      ]
     },
     "execution_count": 39,
     "metadata": {},
     "output_type": "execute_result"
    },
    {
     "data": {
      "image/png": "[encoded data removed]",
      "text/plain": [
       "<matplotlib.figure.Figure at 0x7f4d273a3da0>"
      ]
     },
     "metadata": {},
     "output_type": "display_data"
    }
   ],
   "source": [
    "plt.hist(weird_df.k_important, range = [0, 60], bins = 20 )"
   ]
  },
  {
   "cell_type": "code",
   "execution_count": 40,
   "metadata": {},
   "outputs": [
    {
     "data": {
      "text/plain": [
       "(array([ 67021.,  36694.,  31565.,  27254.,  22292.,  17263.,  13069.,\n",
       "          9369.,   6739.,   4848.,   3402.,   2420.,   1705.,   1207.,\n",
       "           859.,    659.,    456.,    362.,    255.,    335.]),\n",
       " array([  0.,   1.,   2.,   3.,   4.,   5.,   6.,   7.,   8.,   9.,  10.,\n",
       "         11.,  12.,  13.,  14.,  15.,  16.,  17.,  18.,  19.,  20.]),\n",
       " <a list of 20 Patch objects>)"
      ]
     },
     "execution_count": 40,
     "metadata": {},
     "output_type": "execute_result"
    },
    {
     "data": {
      "image/png": "[encoded data removed]",
      "text/plain": [
       "<matplotlib.figure.Figure at 0x7f4d2740c9b0>"
      ]
     },
     "metadata": {},
     "output_type": "display_data"
    }
   ],
   "source": [
    "plt.hist(weird_df.verbs, range = [0, 20], bins = 20 )"
   ]
  },
  {
   "cell_type": "code",
   "execution_count": 41,
   "metadata": {},
   "outputs": [
    {
     "data": {
      "text/plain": [
       "(array([ 71469.,  50852.,  41268.,  30119.,  20055.,  12298.,   7825.,\n",
       "          4808.,   2993.,   1947.,   1308.,    884.,    647.,    427.,\n",
       "           303.,    234.,    171.,    118.,    110.,    125.]),\n",
       " array([  0.,   2.,   4.,   6.,   8.,  10.,  12.,  14.,  16.,  18.,  20.,\n",
       "         22.,  24.,  26.,  28.,  30.,  32.,  34.,  36.,  38.,  40.]),\n",
       " <a list of 20 Patch objects>)"
      ]
     },
     "execution_count": 41,
     "metadata": {},
     "output_type": "execute_result"
    },
    {
     "data": {
      "image/png": "[encoded data removed]",
      "text/plain": [
       "<matplotlib.figure.Figure at 0x7f4d2720c5f8>"
      ]
     },
     "metadata": {},
     "output_type": "display_data"
    }
   ],
   "source": [
    "plt.hist(weird_df.nouns, range = [0, 40], bins = 20 )"
   ]
  },
  {
   "cell_type": "code",
   "execution_count": 42,
   "metadata": {},
   "outputs": [
    {
     "data": {
      "text/plain": [
       "(array([ 11129.,  11722.,  12653.,  13901.,  14371.,  14598.,  14940.,\n",
       "         14638.,  14809.,  14580.,  14473.,  13939.,  12989.,  12647.,\n",
       "         11496.,  10650.,   9479.,   8673.,   8382.,   8241.]),\n",
       " array([   0.        ,    5.00531067,   10.01062135,   15.01593202,\n",
       "          20.0212427 ,   25.02655337,   30.03186405,   35.03717472,\n",
       "          40.0424854 ,   45.04779607,   50.05310674,   55.05841742,\n",
       "          60.06372809,   65.06903877,   70.07434944,   75.07966012,\n",
       "          80.08497079,   85.09028147,   90.09559214,   95.10090281,\n",
       "         100.10621349]),\n",
       " <a list of 20 Patch objects>)"
      ]
     },
     "execution_count": 42,
     "metadata": {},
     "output_type": "execute_result"
    },
    {
     "data": {
      "image/png": "[encoded data removed]",
      "text/plain": [
       "<matplotlib.figure.Figure at 0x7f4d271aaf60>"
      ]
     },
     "metadata": {},
     "output_type": "display_data"
    }
   ],
   "source": [
    "plt.hist(weird_df.position, bins = 20 )"
   ]
  },
  {
   "cell_type": "markdown",
   "metadata": {},
   "source": [
    "We have a clear difference in distribution of the features: for the abstracts, we get a more or less normal distribution for all features, for the probably non-abstract sentences, we get skewed distributions, as expected:\n",
    "* examples are short\n",
    "* contain non-english words (not tagged by POS tagger)\n",
    "* less important words\n",
    "\n",
    "I will eliminate the probably non-sentences from both dataframes. Randomly select about 20 000 sentences from df_weird for classification."
   ]
  },
  {
   "cell_type": "code",
   "execution_count": 186,
   "metadata": {},
   "outputs": [],
   "source": [
    "abstract_trash = list(df_trash_abstract.index)\n",
    "abstracts_clean = features_df.iloc[[n for n in list(features_df.index) if n not in abstract_trash]]"
   ]
  },
  {
   "cell_type": "code",
   "execution_count": 187,
   "metadata": {},
   "outputs": [
    {
     "data": {
      "text/plain": [
       "(18383, 9)"
      ]
     },
     "execution_count": 187,
     "metadata": {},
     "output_type": "execute_result"
    }
   ],
   "source": [
    "abstracts_clean.shape"
   ]
  },
  {
   "cell_type": "code",
   "execution_count": 180,
   "metadata": {},
   "outputs": [],
   "source": [
    "weird_trash = list(df_trash_weird.index)\n",
    "weird_clean = weird_df.iloc[[n for n in list(weird_df.index) if n not in weird_trash]]"
   ]
  },
  {
   "cell_type": "code",
   "execution_count": 189,
   "metadata": {},
   "outputs": [
    {
     "data": {
      "text/html": [
       "<div>\n",
       "<style>\n",
       "    .dataframe thead tr:only-child th {\n",
       "        text-align: right;\n",
       "    }\n",
       "\n",
       "    .dataframe thead th {\n",
       "        text-align: left;\n",
       "    }\n",
       "\n",
       "    .dataframe tbody tr th {\n",
       "        vertical-align: top;\n",
       "    }\n",
       "</style>\n",
       "<table border=\"1\" class=\"dataframe\">\n",
       "  <thead>\n",
       "    <tr style=\"text-align: right;\">\n",
       "      <th></th>\n",
       "      <th>sentence</th>\n",
       "      <th>length</th>\n",
       "      <th>named_entities</th>\n",
       "      <th>k_important</th>\n",
       "      <th>position</th>\n",
       "      <th>upper</th>\n",
       "      <th>nouns</th>\n",
       "      <th>verbs</th>\n",
       "      <th>adjectives</th>\n",
       "      <th>category</th>\n",
       "    </tr>\n",
       "  </thead>\n",
       "  <tbody>\n",
       "    <tr>\n",
       "      <th>248274</th>\n",
       "      <td>deaf-NU-INF  (Pol)  b. Moje  koty cats-NOM  b˛...</td>\n",
       "      <td>23</td>\n",
       "      <td>0</td>\n",
       "      <td>2</td>\n",
       "      <td>66.847826</td>\n",
       "      <td>14</td>\n",
       "      <td>3</td>\n",
       "      <td>1</td>\n",
       "      <td>1</td>\n",
       "      <td>0</td>\n",
       "    </tr>\n",
       "    <tr>\n",
       "      <th>248275</th>\n",
       "      <td>My cats will be deaf.’  ogłuch-ł-e.</td>\n",
       "      <td>12</td>\n",
       "      <td>0</td>\n",
       "      <td>0</td>\n",
       "      <td>67.119565</td>\n",
       "      <td>4</td>\n",
       "      <td>1</td>\n",
       "      <td>2</td>\n",
       "      <td>1</td>\n",
       "      <td>0</td>\n",
       "    </tr>\n",
       "    <tr>\n",
       "      <th>248276</th>\n",
       "      <td>The ﬁrst one involved a case where a lexical e...</td>\n",
       "      <td>41</td>\n",
       "      <td>2</td>\n",
       "      <td>20</td>\n",
       "      <td>68.206522</td>\n",
       "      <td>3</td>\n",
       "      <td>11</td>\n",
       "      <td>5</td>\n",
       "      <td>6</td>\n",
       "      <td>0</td>\n",
       "    </tr>\n",
       "    <tr>\n",
       "      <th>248277</th>\n",
       "      <td>This ultimately accounts for the contrast betw...</td>\n",
       "      <td>39</td>\n",
       "      <td>1</td>\n",
       "      <td>14</td>\n",
       "      <td>68.750000</td>\n",
       "      <td>5</td>\n",
       "      <td>7</td>\n",
       "      <td>5</td>\n",
       "      <td>6</td>\n",
       "      <td>0</td>\n",
       "    </tr>\n",
       "    <tr>\n",
       "      <th>248308</th>\n",
       "      <td>Preﬁx stacking, syncretism, and the syntactic ...</td>\n",
       "      <td>10</td>\n",
       "      <td>0</td>\n",
       "      <td>4</td>\n",
       "      <td>98.913043</td>\n",
       "      <td>3</td>\n",
       "      <td>2</td>\n",
       "      <td>1</td>\n",
       "      <td>1</td>\n",
       "      <td>0</td>\n",
       "    </tr>\n",
       "  </tbody>\n",
       "</table>\n",
       "</div>"
      ],
      "text/plain": [
       "                                                 sentence  length  \\\n",
       "248274  deaf-NU-INF  (Pol)  b. Moje  koty cats-NOM  b˛...      23   \n",
       "248275                My cats will be deaf.’  ogłuch-ł-e.      12   \n",
       "248276  The ﬁrst one involved a case where a lexical e...      41   \n",
       "248277  This ultimately accounts for the contrast betw...      39   \n",
       "248308  Preﬁx stacking, syncretism, and the syntactic ...      10   \n",
       "\n",
       "        named_entities  k_important   position  upper  nouns  verbs  \\\n",
       "248274               0            2  66.847826     14      3      1   \n",
       "248275               0            0  67.119565      4      1      2   \n",
       "248276               2           20  68.206522      3     11      5   \n",
       "248277               1           14  68.750000      5      7      5   \n",
       "248308               0            4  98.913043      3      2      1   \n",
       "\n",
       "        adjectives  category  \n",
       "248274           1         0  \n",
       "248275           1         0  \n",
       "248276           6         0  \n",
       "248277           6         0  \n",
       "248308           1         0  "
      ]
     },
     "execution_count": 189,
     "metadata": {},
     "output_type": "execute_result"
    }
   ],
   "source": [
    "weird_clean.tail()"
   ]
  },
  {
   "cell_type": "markdown",
   "metadata": {},
   "source": [
    "Add class, join dataframes, normalize (in order for every feature to be equally important)"
   ]
  },
  {
   "cell_type": "code",
   "execution_count": 188,
   "metadata": {},
   "outputs": [
    {
     "name": "stderr",
     "output_type": "stream",
     "text": [
      "/home/aleksandra/anaconda3/lib/python3.6/site-packages/ipykernel_launcher.py:1: SettingWithCopyWarning: \n",
      "A value is trying to be set on a copy of a slice from a DataFrame.\n",
      "Try using .loc[row_indexer,col_indexer] = value instead\n",
      "\n",
      "See the caveats in the documentation: http://pandas.pydata.org/pandas-docs/stable/indexing.html#indexing-view-versus-copy\n",
      "  \"\"\"Entry point for launching an IPython kernel.\n"
     ]
    }
   ],
   "source": [
    "abstracts_clean['category'] = 1"
   ]
  },
  {
   "cell_type": "code",
   "execution_count": 182,
   "metadata": {},
   "outputs": [
    {
     "name": "stderr",
     "output_type": "stream",
     "text": [
      "/home/aleksandra/anaconda3/lib/python3.6/site-packages/ipykernel_launcher.py:1: SettingWithCopyWarning: \n",
      "A value is trying to be set on a copy of a slice from a DataFrame.\n",
      "Try using .loc[row_indexer,col_indexer] = value instead\n",
      "\n",
      "See the caveats in the documentation: http://pandas.pydata.org/pandas-docs/stable/indexing.html#indexing-view-versus-copy\n",
      "  \"\"\"Entry point for launching an IPython kernel.\n"
     ]
    }
   ],
   "source": [
    "weird_clean['category'] = 0"
   ]
  },
  {
   "cell_type": "code",
   "execution_count": 183,
   "metadata": {
    "collapsed": true
   },
   "outputs": [],
   "source": [
    "weird_clean_sample = weird_clean.sample(19000)"
   ]
  },
  {
   "cell_type": "code",
   "execution_count": 184,
   "metadata": {},
   "outputs": [
    {
     "data": {
      "text/html": [
       "<div>\n",
       "<style>\n",
       "    .dataframe thead tr:only-child th {\n",
       "        text-align: right;\n",
       "    }\n",
       "\n",
       "    .dataframe thead th {\n",
       "        text-align: left;\n",
       "    }\n",
       "\n",
       "    .dataframe tbody tr th {\n",
       "        vertical-align: top;\n",
       "    }\n",
       "</style>\n",
       "<table border=\"1\" class=\"dataframe\">\n",
       "  <thead>\n",
       "    <tr style=\"text-align: right;\">\n",
       "      <th></th>\n",
       "      <th>sentence</th>\n",
       "      <th>length</th>\n",
       "      <th>named_entities</th>\n",
       "      <th>k_important</th>\n",
       "      <th>position</th>\n",
       "      <th>upper</th>\n",
       "      <th>nouns</th>\n",
       "      <th>verbs</th>\n",
       "      <th>adjectives</th>\n",
       "      <th>category</th>\n",
       "    </tr>\n",
       "  </thead>\n",
       "  <tbody>\n",
       "    <tr>\n",
       "      <th>32441</th>\n",
       "      <td>presents’.  This  lexical  item  belongs  to  ...</td>\n",
       "      <td>29</td>\n",
       "      <td>0</td>\n",
       "      <td>6</td>\n",
       "      <td>47.471300</td>\n",
       "      <td>17</td>\n",
       "      <td>5</td>\n",
       "      <td>1</td>\n",
       "      <td>1</td>\n",
       "      <td>0</td>\n",
       "    </tr>\n",
       "    <tr>\n",
       "      <th>39594</th>\n",
       "      <td>Like direct objects, instrumental objects in a...</td>\n",
       "      <td>39</td>\n",
       "      <td>0</td>\n",
       "      <td>15</td>\n",
       "      <td>62.398240</td>\n",
       "      <td>8</td>\n",
       "      <td>8</td>\n",
       "      <td>6</td>\n",
       "      <td>3</td>\n",
       "      <td>0</td>\n",
       "    </tr>\n",
       "    <tr>\n",
       "      <th>42531</th>\n",
       "      <td>Table 29  Logistic Regression Results – Experi...</td>\n",
       "      <td>148</td>\n",
       "      <td>6</td>\n",
       "      <td>39</td>\n",
       "      <td>54.012868</td>\n",
       "      <td>134</td>\n",
       "      <td>5</td>\n",
       "      <td>1</td>\n",
       "      <td>2</td>\n",
       "      <td>0</td>\n",
       "    </tr>\n",
       "    <tr>\n",
       "      <th>68367</th>\n",
       "      <td>, the argument   arrangement) remaining the sa...</td>\n",
       "      <td>92</td>\n",
       "      <td>5</td>\n",
       "      <td>18</td>\n",
       "      <td>63.627924</td>\n",
       "      <td>40</td>\n",
       "      <td>13</td>\n",
       "      <td>5</td>\n",
       "      <td>3</td>\n",
       "      <td>0</td>\n",
       "    </tr>\n",
       "    <tr>\n",
       "      <th>20707</th>\n",
       "      <td>3-CL-or.more-GEN     student-NOM     gather-NE...</td>\n",
       "      <td>40</td>\n",
       "      <td>0</td>\n",
       "      <td>9</td>\n",
       "      <td>61.426979</td>\n",
       "      <td>19</td>\n",
       "      <td>8</td>\n",
       "      <td>1</td>\n",
       "      <td>3</td>\n",
       "      <td>0</td>\n",
       "    </tr>\n",
       "  </tbody>\n",
       "</table>\n",
       "</div>"
      ],
      "text/plain": [
       "                                                sentence  length  \\\n",
       "32441  presents’.  This  lexical  item  belongs  to  ...      29   \n",
       "39594  Like direct objects, instrumental objects in a...      39   \n",
       "42531  Table 29  Logistic Regression Results – Experi...     148   \n",
       "68367  , the argument   arrangement) remaining the sa...      92   \n",
       "20707  3-CL-or.more-GEN     student-NOM     gather-NE...      40   \n",
       "\n",
       "       named_entities  k_important   position  upper  nouns  verbs  \\\n",
       "32441               0            6  47.471300     17      5      1   \n",
       "39594               0           15  62.398240      8      8      6   \n",
       "42531               6           39  54.012868    134      5      1   \n",
       "68367               5           18  63.627924     40     13      5   \n",
       "20707               0            9  61.426979     19      8      1   \n",
       "\n",
       "       adjectives  category  \n",
       "32441           1         0  \n",
       "39594           3         0  \n",
       "42531           2         0  \n",
       "68367           3         0  \n",
       "20707           3         0  "
      ]
     },
     "execution_count": 184,
     "metadata": {},
     "output_type": "execute_result"
    }
   ],
   "source": [
    "weird_clean_sample.tail()"
   ]
  },
  {
   "cell_type": "code",
   "execution_count": 190,
   "metadata": {},
   "outputs": [],
   "source": [
    "all_sentences = pd.concat([abstracts_clean, weird_clean_sample])"
   ]
  },
  {
   "cell_type": "code",
   "execution_count": 191,
   "metadata": {},
   "outputs": [
    {
     "data": {
      "text/html": [
       "<div>\n",
       "<style>\n",
       "    .dataframe thead tr:only-child th {\n",
       "        text-align: right;\n",
       "    }\n",
       "\n",
       "    .dataframe thead th {\n",
       "        text-align: left;\n",
       "    }\n",
       "\n",
       "    .dataframe tbody tr th {\n",
       "        vertical-align: top;\n",
       "    }\n",
       "</style>\n",
       "<table border=\"1\" class=\"dataframe\">\n",
       "  <thead>\n",
       "    <tr style=\"text-align: right;\">\n",
       "      <th></th>\n",
       "      <th>length</th>\n",
       "      <th>named_entities</th>\n",
       "      <th>k_important</th>\n",
       "      <th>position</th>\n",
       "      <th>upper</th>\n",
       "      <th>nouns</th>\n",
       "      <th>verbs</th>\n",
       "      <th>adjectives</th>\n",
       "      <th>category</th>\n",
       "    </tr>\n",
       "  </thead>\n",
       "  <tbody>\n",
       "    <tr>\n",
       "      <th>count</th>\n",
       "      <td>37383.000000</td>\n",
       "      <td>37383.000000</td>\n",
       "      <td>37383.000000</td>\n",
       "      <td>37383.000000</td>\n",
       "      <td>37383.000000</td>\n",
       "      <td>37383.000000</td>\n",
       "      <td>37383.000000</td>\n",
       "      <td>37383.000000</td>\n",
       "      <td>37383.000000</td>\n",
       "    </tr>\n",
       "    <tr>\n",
       "      <th>mean</th>\n",
       "      <td>38.151673</td>\n",
       "      <td>1.228152</td>\n",
       "      <td>12.366343</td>\n",
       "      <td>41.918128</td>\n",
       "      <td>12.977958</td>\n",
       "      <td>6.378675</td>\n",
       "      <td>4.124147</td>\n",
       "      <td>2.922585</td>\n",
       "      <td>0.491748</td>\n",
       "    </tr>\n",
       "    <tr>\n",
       "      <th>std</th>\n",
       "      <td>28.621943</td>\n",
       "      <td>1.557651</td>\n",
       "      <td>8.154181</td>\n",
       "      <td>26.674856</td>\n",
       "      <td>17.877021</td>\n",
       "      <td>4.693379</td>\n",
       "      <td>2.890956</td>\n",
       "      <td>2.531203</td>\n",
       "      <td>0.499939</td>\n",
       "    </tr>\n",
       "    <tr>\n",
       "      <th>min</th>\n",
       "      <td>6.000000</td>\n",
       "      <td>0.000000</td>\n",
       "      <td>0.000000</td>\n",
       "      <td>0.000000</td>\n",
       "      <td>1.000000</td>\n",
       "      <td>0.000000</td>\n",
       "      <td>1.000000</td>\n",
       "      <td>0.000000</td>\n",
       "      <td>0.000000</td>\n",
       "    </tr>\n",
       "    <tr>\n",
       "      <th>25%</th>\n",
       "      <td>21.000000</td>\n",
       "      <td>0.000000</td>\n",
       "      <td>7.000000</td>\n",
       "      <td>20.000000</td>\n",
       "      <td>4.000000</td>\n",
       "      <td>3.000000</td>\n",
       "      <td>2.000000</td>\n",
       "      <td>1.000000</td>\n",
       "      <td>0.000000</td>\n",
       "    </tr>\n",
       "    <tr>\n",
       "      <th>50%</th>\n",
       "      <td>31.000000</td>\n",
       "      <td>1.000000</td>\n",
       "      <td>11.000000</td>\n",
       "      <td>41.163793</td>\n",
       "      <td>8.000000</td>\n",
       "      <td>6.000000</td>\n",
       "      <td>3.000000</td>\n",
       "      <td>2.000000</td>\n",
       "      <td>0.000000</td>\n",
       "    </tr>\n",
       "    <tr>\n",
       "      <th>75%</th>\n",
       "      <td>46.000000</td>\n",
       "      <td>2.000000</td>\n",
       "      <td>16.000000</td>\n",
       "      <td>63.636364</td>\n",
       "      <td>15.000000</td>\n",
       "      <td>8.000000</td>\n",
       "      <td>5.000000</td>\n",
       "      <td>4.000000</td>\n",
       "      <td>1.000000</td>\n",
       "    </tr>\n",
       "    <tr>\n",
       "      <th>max</th>\n",
       "      <td>1260.000000</td>\n",
       "      <td>30.000000</td>\n",
       "      <td>313.000000</td>\n",
       "      <td>99.965870</td>\n",
       "      <td>1086.000000</td>\n",
       "      <td>140.000000</td>\n",
       "      <td>52.000000</td>\n",
       "      <td>37.000000</td>\n",
       "      <td>1.000000</td>\n",
       "    </tr>\n",
       "  </tbody>\n",
       "</table>\n",
       "</div>"
      ],
      "text/plain": [
       "             length  named_entities   k_important      position         upper  \\\n",
       "count  37383.000000    37383.000000  37383.000000  37383.000000  37383.000000   \n",
       "mean      38.151673        1.228152     12.366343     41.918128     12.977958   \n",
       "std       28.621943        1.557651      8.154181     26.674856     17.877021   \n",
       "min        6.000000        0.000000      0.000000      0.000000      1.000000   \n",
       "25%       21.000000        0.000000      7.000000     20.000000      4.000000   \n",
       "50%       31.000000        1.000000     11.000000     41.163793      8.000000   \n",
       "75%       46.000000        2.000000     16.000000     63.636364     15.000000   \n",
       "max     1260.000000       30.000000    313.000000     99.965870   1086.000000   \n",
       "\n",
       "              nouns         verbs    adjectives      category  \n",
       "count  37383.000000  37383.000000  37383.000000  37383.000000  \n",
       "mean       6.378675      4.124147      2.922585      0.491748  \n",
       "std        4.693379      2.890956      2.531203      0.499939  \n",
       "min        0.000000      1.000000      0.000000      0.000000  \n",
       "25%        3.000000      2.000000      1.000000      0.000000  \n",
       "50%        6.000000      3.000000      2.000000      0.000000  \n",
       "75%        8.000000      5.000000      4.000000      1.000000  \n",
       "max      140.000000     52.000000     37.000000      1.000000  "
      ]
     },
     "execution_count": 191,
     "metadata": {},
     "output_type": "execute_result"
    }
   ],
   "source": [
    "all_sentences.describe()"
   ]
  },
  {
   "cell_type": "code",
   "execution_count": 192,
   "metadata": {},
   "outputs": [],
   "source": [
    "all_sentences2 = all_sentences[all_sentences.length < 300]"
   ]
  },
  {
   "cell_type": "code",
   "execution_count": 193,
   "metadata": {},
   "outputs": [
    {
     "data": {
      "text/html": [
       "<div>\n",
       "<style>\n",
       "    .dataframe thead tr:only-child th {\n",
       "        text-align: right;\n",
       "    }\n",
       "\n",
       "    .dataframe thead th {\n",
       "        text-align: left;\n",
       "    }\n",
       "\n",
       "    .dataframe tbody tr th {\n",
       "        vertical-align: top;\n",
       "    }\n",
       "</style>\n",
       "<table border=\"1\" class=\"dataframe\">\n",
       "  <thead>\n",
       "    <tr style=\"text-align: right;\">\n",
       "      <th></th>\n",
       "      <th>length</th>\n",
       "      <th>named_entities</th>\n",
       "      <th>k_important</th>\n",
       "      <th>position</th>\n",
       "      <th>upper</th>\n",
       "      <th>nouns</th>\n",
       "      <th>verbs</th>\n",
       "      <th>adjectives</th>\n",
       "      <th>category</th>\n",
       "    </tr>\n",
       "  </thead>\n",
       "  <tbody>\n",
       "    <tr>\n",
       "      <th>count</th>\n",
       "      <td>37361.000000</td>\n",
       "      <td>37361.000000</td>\n",
       "      <td>37361.000000</td>\n",
       "      <td>37361.000000</td>\n",
       "      <td>37361.000000</td>\n",
       "      <td>37361.000000</td>\n",
       "      <td>37361.000000</td>\n",
       "      <td>37361.000000</td>\n",
       "      <td>37361.000000</td>\n",
       "    </tr>\n",
       "    <tr>\n",
       "      <th>mean</th>\n",
       "      <td>37.924279</td>\n",
       "      <td>1.222960</td>\n",
       "      <td>12.331817</td>\n",
       "      <td>41.913162</td>\n",
       "      <td>12.805118</td>\n",
       "      <td>6.357003</td>\n",
       "      <td>4.117475</td>\n",
       "      <td>2.918418</td>\n",
       "      <td>0.492037</td>\n",
       "    </tr>\n",
       "    <tr>\n",
       "      <th>std</th>\n",
       "      <td>26.614869</td>\n",
       "      <td>1.531999</td>\n",
       "      <td>7.899098</td>\n",
       "      <td>26.672054</td>\n",
       "      <td>15.680738</td>\n",
       "      <td>4.557503</td>\n",
       "      <td>2.860241</td>\n",
       "      <td>2.517781</td>\n",
       "      <td>0.499943</td>\n",
       "    </tr>\n",
       "    <tr>\n",
       "      <th>min</th>\n",
       "      <td>6.000000</td>\n",
       "      <td>0.000000</td>\n",
       "      <td>0.000000</td>\n",
       "      <td>0.000000</td>\n",
       "      <td>1.000000</td>\n",
       "      <td>0.000000</td>\n",
       "      <td>1.000000</td>\n",
       "      <td>0.000000</td>\n",
       "      <td>0.000000</td>\n",
       "    </tr>\n",
       "    <tr>\n",
       "      <th>25%</th>\n",
       "      <td>21.000000</td>\n",
       "      <td>0.000000</td>\n",
       "      <td>7.000000</td>\n",
       "      <td>20.000000</td>\n",
       "      <td>4.000000</td>\n",
       "      <td>3.000000</td>\n",
       "      <td>2.000000</td>\n",
       "      <td>1.000000</td>\n",
       "      <td>0.000000</td>\n",
       "    </tr>\n",
       "    <tr>\n",
       "      <th>50%</th>\n",
       "      <td>31.000000</td>\n",
       "      <td>1.000000</td>\n",
       "      <td>11.000000</td>\n",
       "      <td>41.144114</td>\n",
       "      <td>8.000000</td>\n",
       "      <td>6.000000</td>\n",
       "      <td>3.000000</td>\n",
       "      <td>2.000000</td>\n",
       "      <td>0.000000</td>\n",
       "    </tr>\n",
       "    <tr>\n",
       "      <th>75%</th>\n",
       "      <td>46.000000</td>\n",
       "      <td>2.000000</td>\n",
       "      <td>16.000000</td>\n",
       "      <td>63.636364</td>\n",
       "      <td>15.000000</td>\n",
       "      <td>8.000000</td>\n",
       "      <td>5.000000</td>\n",
       "      <td>4.000000</td>\n",
       "      <td>1.000000</td>\n",
       "    </tr>\n",
       "    <tr>\n",
       "      <th>max</th>\n",
       "      <td>298.000000</td>\n",
       "      <td>30.000000</td>\n",
       "      <td>96.000000</td>\n",
       "      <td>99.965870</td>\n",
       "      <td>241.000000</td>\n",
       "      <td>95.000000</td>\n",
       "      <td>34.000000</td>\n",
       "      <td>37.000000</td>\n",
       "      <td>1.000000</td>\n",
       "    </tr>\n",
       "  </tbody>\n",
       "</table>\n",
       "</div>"
      ],
      "text/plain": [
       "             length  named_entities   k_important      position         upper  \\\n",
       "count  37361.000000    37361.000000  37361.000000  37361.000000  37361.000000   \n",
       "mean      37.924279        1.222960     12.331817     41.913162     12.805118   \n",
       "std       26.614869        1.531999      7.899098     26.672054     15.680738   \n",
       "min        6.000000        0.000000      0.000000      0.000000      1.000000   \n",
       "25%       21.000000        0.000000      7.000000     20.000000      4.000000   \n",
       "50%       31.000000        1.000000     11.000000     41.144114      8.000000   \n",
       "75%       46.000000        2.000000     16.000000     63.636364     15.000000   \n",
       "max      298.000000       30.000000     96.000000     99.965870    241.000000   \n",
       "\n",
       "              nouns         verbs    adjectives      category  \n",
       "count  37361.000000  37361.000000  37361.000000  37361.000000  \n",
       "mean       6.357003      4.117475      2.918418      0.492037  \n",
       "std        4.557503      2.860241      2.517781      0.499943  \n",
       "min        0.000000      1.000000      0.000000      0.000000  \n",
       "25%        3.000000      2.000000      1.000000      0.000000  \n",
       "50%        6.000000      3.000000      2.000000      0.000000  \n",
       "75%        8.000000      5.000000      4.000000      1.000000  \n",
       "max       95.000000     34.000000     37.000000      1.000000  "
      ]
     },
     "execution_count": 193,
     "metadata": {},
     "output_type": "execute_result"
    }
   ],
   "source": [
    "all_sentences2.describe()"
   ]
  },
  {
   "cell_type": "code",
   "execution_count": 195,
   "metadata": {},
   "outputs": [
    {
     "data": {
      "text/plain": [
       "['data_classification']"
      ]
     },
     "execution_count": 195,
     "metadata": {},
     "output_type": "execute_result"
    }
   ],
   "source": [
    "joblib.dump(all_sentences2, 'data_classification')"
   ]
  },
  {
   "cell_type": "code",
   "execution_count": null,
   "metadata": {
    "collapsed": true
   },
   "outputs": [],
   "source": []
  }
 ],
 "metadata": {
  "kernelspec": {
   "display_name": "Python 3",
   "language": "python",
   "name": "python3"
  },
  "language_info": {
   "codemirror_mode": {
    "name": "ipython",
    "version": 3
   },
   "file_extension": ".py",
   "mimetype": "text/x-python",
   "name": "python",
   "nbconvert_exporter": "python",
   "pygments_lexer": "ipython3",
   "version": "3.6.1"
  }
 },
 "nbformat": 4,
 "nbformat_minor": 2
}
